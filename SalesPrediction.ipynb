{
  "nbformat": 4,
  "nbformat_minor": 0,
  "metadata": {
    "colab": {
      "provenance": [],
      "include_colab_link": true
    },
    "kernelspec": {
      "name": "python3",
      "display_name": "Python 3"
    },
    "language_info": {
      "name": "python"
    }
  },
  "cells": [
    {
      "cell_type": "markdown",
      "metadata": {
        "id": "view-in-github",
        "colab_type": "text"
      },
      "source": [
        "<a href=\"https://colab.research.google.com/github/Sheetal201/Sales-Prediction/blob/main/SalesPrediction.ipynb\" target=\"_parent\"><img src=\"https://colab.research.google.com/assets/colab-badge.svg\" alt=\"Open In Colab\"/></a>"
      ]
    },
    {
      "cell_type": "code",
      "source": [
        "# Importing necessary libraries...\n",
        "import pandas as pd\n",
        "import numpy as np\n",
        "from scipy.stats import norm\n",
        "from scipy import stats\n",
        "import matplotlib.pyplot as plt\n",
        "import seaborn as sns\n",
        "from sklearn.model_selection import train_test_split\n",
        "from sklearn.preprocessing import StandardScaler, LabelEncoder\n",
        "%matplotlib inline"
      ],
      "metadata": {
        "id": "aJB5Vqo8ZvUq"
      },
      "execution_count": null,
      "outputs": []
    },
    {
      "cell_type": "code",
      "source": [
        "# data = pd.read_csv('/content/drive/MyDrive/Datasets/train.csv')\n",
        "data = pd.read_csv(\"/content/drive/MyDrive/Datasets/train.csv\")"
      ],
      "metadata": {
        "id": "112ZaZIZg70W"
      },
      "execution_count": null,
      "outputs": []
    },
    {
      "cell_type": "code",
      "source": [
        "# Imported dataset from drive\n",
        "from google.colab import drive\n",
        "drive.mount('/content/drive')"
      ],
      "metadata": {
        "colab": {
          "base_uri": "https://localhost:8080/"
        },
        "id": "VPvcPPz0_wlY",
        "outputId": "5ccc30ba-01b1-4997-e37d-ef13d5ba788b"
      },
      "execution_count": null,
      "outputs": [
        {
          "output_type": "stream",
          "name": "stdout",
          "text": [
            "Drive already mounted at /content/drive; to attempt to forcibly remount, call drive.mount(\"/content/drive\", force_remount=True).\n"
          ]
        }
      ]
    },
    {
      "cell_type": "code",
      "source": [
        "data.head(2)"
      ],
      "metadata": {
        "id": "tJdrdR2VhcKa",
        "colab": {
          "base_uri": "https://localhost:8080/",
          "height": 315
        },
        "outputId": "43a85970-06cf-42d5-80f9-bfeb14cad25b"
      },
      "execution_count": null,
      "outputs": [
        {
          "output_type": "execute_result",
          "data": {
            "text/plain": [
              "   Row ID        Order ID  Order Date   Ship Date     Ship Mode Customer ID  \\\n",
              "0       1  CA-2017-152156  08/11/2017  11/11/2017  Second Class    CG-12520   \n",
              "1       2  CA-2017-152156  08/11/2017  11/11/2017  Second Class    CG-12520   \n",
              "\n",
              "  Customer Name   Segment        Country       City     State  Postal Code  \\\n",
              "0   Claire Gute  Consumer  United States  Henderson  Kentucky      42420.0   \n",
              "1   Claire Gute  Consumer  United States  Henderson  Kentucky      42420.0   \n",
              "\n",
              "  Region       Product ID   Category Sub-Category  \\\n",
              "0  South  FUR-BO-10001798  Furniture    Bookcases   \n",
              "1  South  FUR-CH-10000454  Furniture       Chairs   \n",
              "\n",
              "                                        Product Name   Sales  \n",
              "0                  Bush Somerset Collection Bookcase  261.96  \n",
              "1  Hon Deluxe Fabric Upholstered Stacking Chairs,...  731.94  "
            ],
            "text/html": [
              "\n",
              "  <div id=\"df-ad7d49e8-3596-4c9d-a88e-1ca4b52d31b9\">\n",
              "    <div class=\"colab-df-container\">\n",
              "      <div>\n",
              "<style scoped>\n",
              "    .dataframe tbody tr th:only-of-type {\n",
              "        vertical-align: middle;\n",
              "    }\n",
              "\n",
              "    .dataframe tbody tr th {\n",
              "        vertical-align: top;\n",
              "    }\n",
              "\n",
              "    .dataframe thead th {\n",
              "        text-align: right;\n",
              "    }\n",
              "</style>\n",
              "<table border=\"1\" class=\"dataframe\">\n",
              "  <thead>\n",
              "    <tr style=\"text-align: right;\">\n",
              "      <th></th>\n",
              "      <th>Row ID</th>\n",
              "      <th>Order ID</th>\n",
              "      <th>Order Date</th>\n",
              "      <th>Ship Date</th>\n",
              "      <th>Ship Mode</th>\n",
              "      <th>Customer ID</th>\n",
              "      <th>Customer Name</th>\n",
              "      <th>Segment</th>\n",
              "      <th>Country</th>\n",
              "      <th>City</th>\n",
              "      <th>State</th>\n",
              "      <th>Postal Code</th>\n",
              "      <th>Region</th>\n",
              "      <th>Product ID</th>\n",
              "      <th>Category</th>\n",
              "      <th>Sub-Category</th>\n",
              "      <th>Product Name</th>\n",
              "      <th>Sales</th>\n",
              "    </tr>\n",
              "  </thead>\n",
              "  <tbody>\n",
              "    <tr>\n",
              "      <th>0</th>\n",
              "      <td>1</td>\n",
              "      <td>CA-2017-152156</td>\n",
              "      <td>08/11/2017</td>\n",
              "      <td>11/11/2017</td>\n",
              "      <td>Second Class</td>\n",
              "      <td>CG-12520</td>\n",
              "      <td>Claire Gute</td>\n",
              "      <td>Consumer</td>\n",
              "      <td>United States</td>\n",
              "      <td>Henderson</td>\n",
              "      <td>Kentucky</td>\n",
              "      <td>42420.0</td>\n",
              "      <td>South</td>\n",
              "      <td>FUR-BO-10001798</td>\n",
              "      <td>Furniture</td>\n",
              "      <td>Bookcases</td>\n",
              "      <td>Bush Somerset Collection Bookcase</td>\n",
              "      <td>261.96</td>\n",
              "    </tr>\n",
              "    <tr>\n",
              "      <th>1</th>\n",
              "      <td>2</td>\n",
              "      <td>CA-2017-152156</td>\n",
              "      <td>08/11/2017</td>\n",
              "      <td>11/11/2017</td>\n",
              "      <td>Second Class</td>\n",
              "      <td>CG-12520</td>\n",
              "      <td>Claire Gute</td>\n",
              "      <td>Consumer</td>\n",
              "      <td>United States</td>\n",
              "      <td>Henderson</td>\n",
              "      <td>Kentucky</td>\n",
              "      <td>42420.0</td>\n",
              "      <td>South</td>\n",
              "      <td>FUR-CH-10000454</td>\n",
              "      <td>Furniture</td>\n",
              "      <td>Chairs</td>\n",
              "      <td>Hon Deluxe Fabric Upholstered Stacking Chairs,...</td>\n",
              "      <td>731.94</td>\n",
              "    </tr>\n",
              "  </tbody>\n",
              "</table>\n",
              "</div>\n",
              "      <button class=\"colab-df-convert\" onclick=\"convertToInteractive('df-ad7d49e8-3596-4c9d-a88e-1ca4b52d31b9')\"\n",
              "              title=\"Convert this dataframe to an interactive table.\"\n",
              "              style=\"display:none;\">\n",
              "        \n",
              "  <svg xmlns=\"http://www.w3.org/2000/svg\" height=\"24px\"viewBox=\"0 0 24 24\"\n",
              "       width=\"24px\">\n",
              "    <path d=\"M0 0h24v24H0V0z\" fill=\"none\"/>\n",
              "    <path d=\"M18.56 5.44l.94 2.06.94-2.06 2.06-.94-2.06-.94-.94-2.06-.94 2.06-2.06.94zm-11 1L8.5 8.5l.94-2.06 2.06-.94-2.06-.94L8.5 2.5l-.94 2.06-2.06.94zm10 10l.94 2.06.94-2.06 2.06-.94-2.06-.94-.94-2.06-.94 2.06-2.06.94z\"/><path d=\"M17.41 7.96l-1.37-1.37c-.4-.4-.92-.59-1.43-.59-.52 0-1.04.2-1.43.59L10.3 9.45l-7.72 7.72c-.78.78-.78 2.05 0 2.83L4 21.41c.39.39.9.59 1.41.59.51 0 1.02-.2 1.41-.59l7.78-7.78 2.81-2.81c.8-.78.8-2.07 0-2.86zM5.41 20L4 18.59l7.72-7.72 1.47 1.35L5.41 20z\"/>\n",
              "  </svg>\n",
              "      </button>\n",
              "      \n",
              "  <style>\n",
              "    .colab-df-container {\n",
              "      display:flex;\n",
              "      flex-wrap:wrap;\n",
              "      gap: 12px;\n",
              "    }\n",
              "\n",
              "    .colab-df-convert {\n",
              "      background-color: #E8F0FE;\n",
              "      border: none;\n",
              "      border-radius: 50%;\n",
              "      cursor: pointer;\n",
              "      display: none;\n",
              "      fill: #1967D2;\n",
              "      height: 32px;\n",
              "      padding: 0 0 0 0;\n",
              "      width: 32px;\n",
              "    }\n",
              "\n",
              "    .colab-df-convert:hover {\n",
              "      background-color: #E2EBFA;\n",
              "      box-shadow: 0px 1px 2px rgba(60, 64, 67, 0.3), 0px 1px 3px 1px rgba(60, 64, 67, 0.15);\n",
              "      fill: #174EA6;\n",
              "    }\n",
              "\n",
              "    [theme=dark] .colab-df-convert {\n",
              "      background-color: #3B4455;\n",
              "      fill: #D2E3FC;\n",
              "    }\n",
              "\n",
              "    [theme=dark] .colab-df-convert:hover {\n",
              "      background-color: #434B5C;\n",
              "      box-shadow: 0px 1px 3px 1px rgba(0, 0, 0, 0.15);\n",
              "      filter: drop-shadow(0px 1px 2px rgba(0, 0, 0, 0.3));\n",
              "      fill: #FFFFFF;\n",
              "    }\n",
              "  </style>\n",
              "\n",
              "      <script>\n",
              "        const buttonEl =\n",
              "          document.querySelector('#df-ad7d49e8-3596-4c9d-a88e-1ca4b52d31b9 button.colab-df-convert');\n",
              "        buttonEl.style.display =\n",
              "          google.colab.kernel.accessAllowed ? 'block' : 'none';\n",
              "\n",
              "        async function convertToInteractive(key) {\n",
              "          const element = document.querySelector('#df-ad7d49e8-3596-4c9d-a88e-1ca4b52d31b9');\n",
              "          const dataTable =\n",
              "            await google.colab.kernel.invokeFunction('convertToInteractive',\n",
              "                                                     [key], {});\n",
              "          if (!dataTable) return;\n",
              "\n",
              "          const docLinkHtml = 'Like what you see? Visit the ' +\n",
              "            '<a target=\"_blank\" href=https://colab.research.google.com/notebooks/data_table.ipynb>data table notebook</a>'\n",
              "            + ' to learn more about interactive tables.';\n",
              "          element.innerHTML = '';\n",
              "          dataTable['output_type'] = 'display_data';\n",
              "          await google.colab.output.renderOutput(dataTable, element);\n",
              "          const docLink = document.createElement('div');\n",
              "          docLink.innerHTML = docLinkHtml;\n",
              "          element.appendChild(docLink);\n",
              "        }\n",
              "      </script>\n",
              "    </div>\n",
              "  </div>\n",
              "  "
            ]
          },
          "metadata": {},
          "execution_count": 7
        }
      ]
    },
    {
      "cell_type": "code",
      "source": [
        "data.info()"
      ],
      "metadata": {
        "id": "JkyrXzp8hdX8",
        "colab": {
          "base_uri": "https://localhost:8080/"
        },
        "outputId": "88d52ca8-de1b-4b15-cfb9-720eca7cfe2a"
      },
      "execution_count": null,
      "outputs": [
        {
          "output_type": "stream",
          "name": "stdout",
          "text": [
            "<class 'pandas.core.frame.DataFrame'>\n",
            "RangeIndex: 9800 entries, 0 to 9799\n",
            "Data columns (total 18 columns):\n",
            " #   Column         Non-Null Count  Dtype  \n",
            "---  ------         --------------  -----  \n",
            " 0   Row ID         9800 non-null   int64  \n",
            " 1   Order ID       9800 non-null   object \n",
            " 2   Order Date     9800 non-null   object \n",
            " 3   Ship Date      9800 non-null   object \n",
            " 4   Ship Mode      9800 non-null   object \n",
            " 5   Customer ID    9800 non-null   object \n",
            " 6   Customer Name  9800 non-null   object \n",
            " 7   Segment        9800 non-null   object \n",
            " 8   Country        9800 non-null   object \n",
            " 9   City           9800 non-null   object \n",
            " 10  State          9800 non-null   object \n",
            " 11  Postal Code    9789 non-null   float64\n",
            " 12  Region         9800 non-null   object \n",
            " 13  Product ID     9800 non-null   object \n",
            " 14  Category       9800 non-null   object \n",
            " 15  Sub-Category   9800 non-null   object \n",
            " 16  Product Name   9800 non-null   object \n",
            " 17  Sales          9800 non-null   float64\n",
            "dtypes: float64(2), int64(1), object(15)\n",
            "memory usage: 1.3+ MB\n"
          ]
        }
      ]
    },
    {
      "cell_type": "code",
      "source": [
        "data[data['Postal Code'].isnull()]"
      ],
      "metadata": {
        "id": "L1o3XtzrPnQN",
        "colab": {
          "base_uri": "https://localhost:8080/",
          "height": 996
        },
        "outputId": "73e51a19-0df7-4e0f-a125-5f0039c30b8f"
      },
      "execution_count": null,
      "outputs": [
        {
          "output_type": "execute_result",
          "data": {
            "text/plain": [
              "      Row ID        Order ID  Order Date   Ship Date       Ship Mode  \\\n",
              "2234    2235  CA-2018-104066  05/12/2018  10/12/2018  Standard Class   \n",
              "5274    5275  CA-2016-162887  07/11/2016  09/11/2016    Second Class   \n",
              "8798    8799  US-2017-150140  06/04/2017  10/04/2017  Standard Class   \n",
              "9146    9147  US-2017-165505  23/01/2017  27/01/2017  Standard Class   \n",
              "9147    9148  US-2017-165505  23/01/2017  27/01/2017  Standard Class   \n",
              "9148    9149  US-2017-165505  23/01/2017  27/01/2017  Standard Class   \n",
              "9386    9387  US-2018-127292  19/01/2018  23/01/2018  Standard Class   \n",
              "9387    9388  US-2018-127292  19/01/2018  23/01/2018  Standard Class   \n",
              "9388    9389  US-2018-127292  19/01/2018  23/01/2018  Standard Class   \n",
              "9389    9390  US-2018-127292  19/01/2018  23/01/2018  Standard Class   \n",
              "9741    9742  CA-2016-117086  08/11/2016  12/11/2016  Standard Class   \n",
              "\n",
              "     Customer ID     Customer Name      Segment        Country        City  \\\n",
              "2234    QJ-19255      Quincy Jones    Corporate  United States  Burlington   \n",
              "5274    SV-20785  Stewart Visinsky     Consumer  United States  Burlington   \n",
              "8798    VM-21685   Valerie Mitchum  Home Office  United States  Burlington   \n",
              "9146    CB-12535  Claudia Bergmann    Corporate  United States  Burlington   \n",
              "9147    CB-12535  Claudia Bergmann    Corporate  United States  Burlington   \n",
              "9148    CB-12535  Claudia Bergmann    Corporate  United States  Burlington   \n",
              "9386    RM-19375     Raymond Messe     Consumer  United States  Burlington   \n",
              "9387    RM-19375     Raymond Messe     Consumer  United States  Burlington   \n",
              "9388    RM-19375     Raymond Messe     Consumer  United States  Burlington   \n",
              "9389    RM-19375     Raymond Messe     Consumer  United States  Burlington   \n",
              "9741    QJ-19255      Quincy Jones    Corporate  United States  Burlington   \n",
              "\n",
              "        State  Postal Code Region       Product ID         Category  \\\n",
              "2234  Vermont          NaN   East  TEC-AC-10001013       Technology   \n",
              "5274  Vermont          NaN   East  FUR-CH-10000595        Furniture   \n",
              "8798  Vermont          NaN   East  TEC-PH-10002555       Technology   \n",
              "9146  Vermont          NaN   East  TEC-AC-10002926       Technology   \n",
              "9147  Vermont          NaN   East  OFF-AR-10003477  Office Supplies   \n",
              "9148  Vermont          NaN   East  OFF-ST-10001526  Office Supplies   \n",
              "9386  Vermont          NaN   East  OFF-PA-10000157  Office Supplies   \n",
              "9387  Vermont          NaN   East  OFF-PA-10001970  Office Supplies   \n",
              "9388  Vermont          NaN   East  OFF-AP-10000828  Office Supplies   \n",
              "9389  Vermont          NaN   East  OFF-EN-10001509  Office Supplies   \n",
              "9741  Vermont          NaN   East  FUR-BO-10004834        Furniture   \n",
              "\n",
              "     Sub-Category                                       Product Name    Sales  \n",
              "2234  Accessories        Logitech ClearChat Comfort/USB Headset H390   205.03  \n",
              "5274       Chairs                    Safco Contoured Stacking Chairs   715.20  \n",
              "8798       Phones                Nortel Meridian M5316 Digital phone  1294.75  \n",
              "9146  Accessories              Logitech Wireless Marathon Mouse M705    99.98  \n",
              "9147          Art                                  4009 Highlighters     8.04  \n",
              "9148      Storage              Iceberg Mobile Mega Data/Printer Cart  1564.29  \n",
              "9386        Paper                                          Xerox 191    79.92  \n",
              "9387        Paper                                         Xerox 1881    12.28  \n",
              "9388   Appliances                    Avanti 4.4 Cu. Ft. Refrigerator   542.94  \n",
              "9389    Envelopes                          Poly String Tie Envelopes     2.04  \n",
              "9741    Bookcases  Riverside Palais Royal Lawyers Bookcase, Royal...  4404.90  "
            ],
            "text/html": [
              "\n",
              "  <div id=\"df-f496d52b-fc41-48ca-bd98-6f5bf334930f\">\n",
              "    <div class=\"colab-df-container\">\n",
              "      <div>\n",
              "<style scoped>\n",
              "    .dataframe tbody tr th:only-of-type {\n",
              "        vertical-align: middle;\n",
              "    }\n",
              "\n",
              "    .dataframe tbody tr th {\n",
              "        vertical-align: top;\n",
              "    }\n",
              "\n",
              "    .dataframe thead th {\n",
              "        text-align: right;\n",
              "    }\n",
              "</style>\n",
              "<table border=\"1\" class=\"dataframe\">\n",
              "  <thead>\n",
              "    <tr style=\"text-align: right;\">\n",
              "      <th></th>\n",
              "      <th>Row ID</th>\n",
              "      <th>Order ID</th>\n",
              "      <th>Order Date</th>\n",
              "      <th>Ship Date</th>\n",
              "      <th>Ship Mode</th>\n",
              "      <th>Customer ID</th>\n",
              "      <th>Customer Name</th>\n",
              "      <th>Segment</th>\n",
              "      <th>Country</th>\n",
              "      <th>City</th>\n",
              "      <th>State</th>\n",
              "      <th>Postal Code</th>\n",
              "      <th>Region</th>\n",
              "      <th>Product ID</th>\n",
              "      <th>Category</th>\n",
              "      <th>Sub-Category</th>\n",
              "      <th>Product Name</th>\n",
              "      <th>Sales</th>\n",
              "    </tr>\n",
              "  </thead>\n",
              "  <tbody>\n",
              "    <tr>\n",
              "      <th>2234</th>\n",
              "      <td>2235</td>\n",
              "      <td>CA-2018-104066</td>\n",
              "      <td>05/12/2018</td>\n",
              "      <td>10/12/2018</td>\n",
              "      <td>Standard Class</td>\n",
              "      <td>QJ-19255</td>\n",
              "      <td>Quincy Jones</td>\n",
              "      <td>Corporate</td>\n",
              "      <td>United States</td>\n",
              "      <td>Burlington</td>\n",
              "      <td>Vermont</td>\n",
              "      <td>NaN</td>\n",
              "      <td>East</td>\n",
              "      <td>TEC-AC-10001013</td>\n",
              "      <td>Technology</td>\n",
              "      <td>Accessories</td>\n",
              "      <td>Logitech ClearChat Comfort/USB Headset H390</td>\n",
              "      <td>205.03</td>\n",
              "    </tr>\n",
              "    <tr>\n",
              "      <th>5274</th>\n",
              "      <td>5275</td>\n",
              "      <td>CA-2016-162887</td>\n",
              "      <td>07/11/2016</td>\n",
              "      <td>09/11/2016</td>\n",
              "      <td>Second Class</td>\n",
              "      <td>SV-20785</td>\n",
              "      <td>Stewart Visinsky</td>\n",
              "      <td>Consumer</td>\n",
              "      <td>United States</td>\n",
              "      <td>Burlington</td>\n",
              "      <td>Vermont</td>\n",
              "      <td>NaN</td>\n",
              "      <td>East</td>\n",
              "      <td>FUR-CH-10000595</td>\n",
              "      <td>Furniture</td>\n",
              "      <td>Chairs</td>\n",
              "      <td>Safco Contoured Stacking Chairs</td>\n",
              "      <td>715.20</td>\n",
              "    </tr>\n",
              "    <tr>\n",
              "      <th>8798</th>\n",
              "      <td>8799</td>\n",
              "      <td>US-2017-150140</td>\n",
              "      <td>06/04/2017</td>\n",
              "      <td>10/04/2017</td>\n",
              "      <td>Standard Class</td>\n",
              "      <td>VM-21685</td>\n",
              "      <td>Valerie Mitchum</td>\n",
              "      <td>Home Office</td>\n",
              "      <td>United States</td>\n",
              "      <td>Burlington</td>\n",
              "      <td>Vermont</td>\n",
              "      <td>NaN</td>\n",
              "      <td>East</td>\n",
              "      <td>TEC-PH-10002555</td>\n",
              "      <td>Technology</td>\n",
              "      <td>Phones</td>\n",
              "      <td>Nortel Meridian M5316 Digital phone</td>\n",
              "      <td>1294.75</td>\n",
              "    </tr>\n",
              "    <tr>\n",
              "      <th>9146</th>\n",
              "      <td>9147</td>\n",
              "      <td>US-2017-165505</td>\n",
              "      <td>23/01/2017</td>\n",
              "      <td>27/01/2017</td>\n",
              "      <td>Standard Class</td>\n",
              "      <td>CB-12535</td>\n",
              "      <td>Claudia Bergmann</td>\n",
              "      <td>Corporate</td>\n",
              "      <td>United States</td>\n",
              "      <td>Burlington</td>\n",
              "      <td>Vermont</td>\n",
              "      <td>NaN</td>\n",
              "      <td>East</td>\n",
              "      <td>TEC-AC-10002926</td>\n",
              "      <td>Technology</td>\n",
              "      <td>Accessories</td>\n",
              "      <td>Logitech Wireless Marathon Mouse M705</td>\n",
              "      <td>99.98</td>\n",
              "    </tr>\n",
              "    <tr>\n",
              "      <th>9147</th>\n",
              "      <td>9148</td>\n",
              "      <td>US-2017-165505</td>\n",
              "      <td>23/01/2017</td>\n",
              "      <td>27/01/2017</td>\n",
              "      <td>Standard Class</td>\n",
              "      <td>CB-12535</td>\n",
              "      <td>Claudia Bergmann</td>\n",
              "      <td>Corporate</td>\n",
              "      <td>United States</td>\n",
              "      <td>Burlington</td>\n",
              "      <td>Vermont</td>\n",
              "      <td>NaN</td>\n",
              "      <td>East</td>\n",
              "      <td>OFF-AR-10003477</td>\n",
              "      <td>Office Supplies</td>\n",
              "      <td>Art</td>\n",
              "      <td>4009 Highlighters</td>\n",
              "      <td>8.04</td>\n",
              "    </tr>\n",
              "    <tr>\n",
              "      <th>9148</th>\n",
              "      <td>9149</td>\n",
              "      <td>US-2017-165505</td>\n",
              "      <td>23/01/2017</td>\n",
              "      <td>27/01/2017</td>\n",
              "      <td>Standard Class</td>\n",
              "      <td>CB-12535</td>\n",
              "      <td>Claudia Bergmann</td>\n",
              "      <td>Corporate</td>\n",
              "      <td>United States</td>\n",
              "      <td>Burlington</td>\n",
              "      <td>Vermont</td>\n",
              "      <td>NaN</td>\n",
              "      <td>East</td>\n",
              "      <td>OFF-ST-10001526</td>\n",
              "      <td>Office Supplies</td>\n",
              "      <td>Storage</td>\n",
              "      <td>Iceberg Mobile Mega Data/Printer Cart</td>\n",
              "      <td>1564.29</td>\n",
              "    </tr>\n",
              "    <tr>\n",
              "      <th>9386</th>\n",
              "      <td>9387</td>\n",
              "      <td>US-2018-127292</td>\n",
              "      <td>19/01/2018</td>\n",
              "      <td>23/01/2018</td>\n",
              "      <td>Standard Class</td>\n",
              "      <td>RM-19375</td>\n",
              "      <td>Raymond Messe</td>\n",
              "      <td>Consumer</td>\n",
              "      <td>United States</td>\n",
              "      <td>Burlington</td>\n",
              "      <td>Vermont</td>\n",
              "      <td>NaN</td>\n",
              "      <td>East</td>\n",
              "      <td>OFF-PA-10000157</td>\n",
              "      <td>Office Supplies</td>\n",
              "      <td>Paper</td>\n",
              "      <td>Xerox 191</td>\n",
              "      <td>79.92</td>\n",
              "    </tr>\n",
              "    <tr>\n",
              "      <th>9387</th>\n",
              "      <td>9388</td>\n",
              "      <td>US-2018-127292</td>\n",
              "      <td>19/01/2018</td>\n",
              "      <td>23/01/2018</td>\n",
              "      <td>Standard Class</td>\n",
              "      <td>RM-19375</td>\n",
              "      <td>Raymond Messe</td>\n",
              "      <td>Consumer</td>\n",
              "      <td>United States</td>\n",
              "      <td>Burlington</td>\n",
              "      <td>Vermont</td>\n",
              "      <td>NaN</td>\n",
              "      <td>East</td>\n",
              "      <td>OFF-PA-10001970</td>\n",
              "      <td>Office Supplies</td>\n",
              "      <td>Paper</td>\n",
              "      <td>Xerox 1881</td>\n",
              "      <td>12.28</td>\n",
              "    </tr>\n",
              "    <tr>\n",
              "      <th>9388</th>\n",
              "      <td>9389</td>\n",
              "      <td>US-2018-127292</td>\n",
              "      <td>19/01/2018</td>\n",
              "      <td>23/01/2018</td>\n",
              "      <td>Standard Class</td>\n",
              "      <td>RM-19375</td>\n",
              "      <td>Raymond Messe</td>\n",
              "      <td>Consumer</td>\n",
              "      <td>United States</td>\n",
              "      <td>Burlington</td>\n",
              "      <td>Vermont</td>\n",
              "      <td>NaN</td>\n",
              "      <td>East</td>\n",
              "      <td>OFF-AP-10000828</td>\n",
              "      <td>Office Supplies</td>\n",
              "      <td>Appliances</td>\n",
              "      <td>Avanti 4.4 Cu. Ft. Refrigerator</td>\n",
              "      <td>542.94</td>\n",
              "    </tr>\n",
              "    <tr>\n",
              "      <th>9389</th>\n",
              "      <td>9390</td>\n",
              "      <td>US-2018-127292</td>\n",
              "      <td>19/01/2018</td>\n",
              "      <td>23/01/2018</td>\n",
              "      <td>Standard Class</td>\n",
              "      <td>RM-19375</td>\n",
              "      <td>Raymond Messe</td>\n",
              "      <td>Consumer</td>\n",
              "      <td>United States</td>\n",
              "      <td>Burlington</td>\n",
              "      <td>Vermont</td>\n",
              "      <td>NaN</td>\n",
              "      <td>East</td>\n",
              "      <td>OFF-EN-10001509</td>\n",
              "      <td>Office Supplies</td>\n",
              "      <td>Envelopes</td>\n",
              "      <td>Poly String Tie Envelopes</td>\n",
              "      <td>2.04</td>\n",
              "    </tr>\n",
              "    <tr>\n",
              "      <th>9741</th>\n",
              "      <td>9742</td>\n",
              "      <td>CA-2016-117086</td>\n",
              "      <td>08/11/2016</td>\n",
              "      <td>12/11/2016</td>\n",
              "      <td>Standard Class</td>\n",
              "      <td>QJ-19255</td>\n",
              "      <td>Quincy Jones</td>\n",
              "      <td>Corporate</td>\n",
              "      <td>United States</td>\n",
              "      <td>Burlington</td>\n",
              "      <td>Vermont</td>\n",
              "      <td>NaN</td>\n",
              "      <td>East</td>\n",
              "      <td>FUR-BO-10004834</td>\n",
              "      <td>Furniture</td>\n",
              "      <td>Bookcases</td>\n",
              "      <td>Riverside Palais Royal Lawyers Bookcase, Royal...</td>\n",
              "      <td>4404.90</td>\n",
              "    </tr>\n",
              "  </tbody>\n",
              "</table>\n",
              "</div>\n",
              "      <button class=\"colab-df-convert\" onclick=\"convertToInteractive('df-f496d52b-fc41-48ca-bd98-6f5bf334930f')\"\n",
              "              title=\"Convert this dataframe to an interactive table.\"\n",
              "              style=\"display:none;\">\n",
              "        \n",
              "  <svg xmlns=\"http://www.w3.org/2000/svg\" height=\"24px\"viewBox=\"0 0 24 24\"\n",
              "       width=\"24px\">\n",
              "    <path d=\"M0 0h24v24H0V0z\" fill=\"none\"/>\n",
              "    <path d=\"M18.56 5.44l.94 2.06.94-2.06 2.06-.94-2.06-.94-.94-2.06-.94 2.06-2.06.94zm-11 1L8.5 8.5l.94-2.06 2.06-.94-2.06-.94L8.5 2.5l-.94 2.06-2.06.94zm10 10l.94 2.06.94-2.06 2.06-.94-2.06-.94-.94-2.06-.94 2.06-2.06.94z\"/><path d=\"M17.41 7.96l-1.37-1.37c-.4-.4-.92-.59-1.43-.59-.52 0-1.04.2-1.43.59L10.3 9.45l-7.72 7.72c-.78.78-.78 2.05 0 2.83L4 21.41c.39.39.9.59 1.41.59.51 0 1.02-.2 1.41-.59l7.78-7.78 2.81-2.81c.8-.78.8-2.07 0-2.86zM5.41 20L4 18.59l7.72-7.72 1.47 1.35L5.41 20z\"/>\n",
              "  </svg>\n",
              "      </button>\n",
              "      \n",
              "  <style>\n",
              "    .colab-df-container {\n",
              "      display:flex;\n",
              "      flex-wrap:wrap;\n",
              "      gap: 12px;\n",
              "    }\n",
              "\n",
              "    .colab-df-convert {\n",
              "      background-color: #E8F0FE;\n",
              "      border: none;\n",
              "      border-radius: 50%;\n",
              "      cursor: pointer;\n",
              "      display: none;\n",
              "      fill: #1967D2;\n",
              "      height: 32px;\n",
              "      padding: 0 0 0 0;\n",
              "      width: 32px;\n",
              "    }\n",
              "\n",
              "    .colab-df-convert:hover {\n",
              "      background-color: #E2EBFA;\n",
              "      box-shadow: 0px 1px 2px rgba(60, 64, 67, 0.3), 0px 1px 3px 1px rgba(60, 64, 67, 0.15);\n",
              "      fill: #174EA6;\n",
              "    }\n",
              "\n",
              "    [theme=dark] .colab-df-convert {\n",
              "      background-color: #3B4455;\n",
              "      fill: #D2E3FC;\n",
              "    }\n",
              "\n",
              "    [theme=dark] .colab-df-convert:hover {\n",
              "      background-color: #434B5C;\n",
              "      box-shadow: 0px 1px 3px 1px rgba(0, 0, 0, 0.15);\n",
              "      filter: drop-shadow(0px 1px 2px rgba(0, 0, 0, 0.3));\n",
              "      fill: #FFFFFF;\n",
              "    }\n",
              "  </style>\n",
              "\n",
              "      <script>\n",
              "        const buttonEl =\n",
              "          document.querySelector('#df-f496d52b-fc41-48ca-bd98-6f5bf334930f button.colab-df-convert');\n",
              "        buttonEl.style.display =\n",
              "          google.colab.kernel.accessAllowed ? 'block' : 'none';\n",
              "\n",
              "        async function convertToInteractive(key) {\n",
              "          const element = document.querySelector('#df-f496d52b-fc41-48ca-bd98-6f5bf334930f');\n",
              "          const dataTable =\n",
              "            await google.colab.kernel.invokeFunction('convertToInteractive',\n",
              "                                                     [key], {});\n",
              "          if (!dataTable) return;\n",
              "\n",
              "          const docLinkHtml = 'Like what you see? Visit the ' +\n",
              "            '<a target=\"_blank\" href=https://colab.research.google.com/notebooks/data_table.ipynb>data table notebook</a>'\n",
              "            + ' to learn more about interactive tables.';\n",
              "          element.innerHTML = '';\n",
              "          dataTable['output_type'] = 'display_data';\n",
              "          await google.colab.output.renderOutput(dataTable, element);\n",
              "          const docLink = document.createElement('div');\n",
              "          docLink.innerHTML = docLinkHtml;\n",
              "          element.appendChild(docLink);\n",
              "        }\n",
              "      </script>\n",
              "    </div>\n",
              "  </div>\n",
              "  "
            ]
          },
          "metadata": {},
          "execution_count": 9
        }
      ]
    },
    {
      "cell_type": "code",
      "source": [
        "data = data.dropna()"
      ],
      "metadata": {
        "id": "OtSGqhbJY-VP"
      },
      "execution_count": null,
      "outputs": []
    },
    {
      "cell_type": "code",
      "source": [
        "data.shape"
      ],
      "metadata": {
        "colab": {
          "base_uri": "https://localhost:8080/"
        },
        "id": "VhsiRhm2clcf",
        "outputId": "3420e6f4-6902-435f-a9dd-d68fd3df5951"
      },
      "execution_count": null,
      "outputs": [
        {
          "output_type": "execute_result",
          "data": {
            "text/plain": [
              "(9789, 18)"
            ]
          },
          "metadata": {},
          "execution_count": 11
        }
      ]
    },
    {
      "cell_type": "code",
      "source": [
        "data.isnull().sum()"
      ],
      "metadata": {
        "colab": {
          "base_uri": "https://localhost:8080/"
        },
        "id": "zRC4yI39c_g3",
        "outputId": "005f1da8-ec34-45d5-977b-4462c88c020e"
      },
      "execution_count": null,
      "outputs": [
        {
          "output_type": "execute_result",
          "data": {
            "text/plain": [
              "Row ID           0\n",
              "Order ID         0\n",
              "Order Date       0\n",
              "Ship Date        0\n",
              "Ship Mode        0\n",
              "Customer ID      0\n",
              "Customer Name    0\n",
              "Segment          0\n",
              "Country          0\n",
              "City             0\n",
              "State            0\n",
              "Postal Code      0\n",
              "Region           0\n",
              "Product ID       0\n",
              "Category         0\n",
              "Sub-Category     0\n",
              "Product Name     0\n",
              "Sales            0\n",
              "dtype: int64"
            ]
          },
          "metadata": {},
          "execution_count": 12
        }
      ]
    },
    {
      "cell_type": "code",
      "source": [
        "data.columns"
      ],
      "metadata": {
        "colab": {
          "base_uri": "https://localhost:8080/"
        },
        "id": "x-1kgsTbfj89",
        "outputId": "d6b22adc-8e4a-4f57-f8fa-2b1f1192d466"
      },
      "execution_count": null,
      "outputs": [
        {
          "output_type": "execute_result",
          "data": {
            "text/plain": [
              "Index(['Row ID', 'Order ID', 'Order Date', 'Ship Date', 'Ship Mode',\n",
              "       'Customer ID', 'Customer Name', 'Segment', 'Country', 'City', 'State',\n",
              "       'Postal Code', 'Region', 'Product ID', 'Category', 'Sub-Category',\n",
              "       'Product Name', 'Sales'],\n",
              "      dtype='object')"
            ]
          },
          "metadata": {},
          "execution_count": 13
        }
      ]
    },
    {
      "cell_type": "code",
      "source": [
        "# Function to encode dates by day, month and year in the dataset\n",
        "def encode_dates(df, column):\n",
        "    df = df.copy()\n",
        "    df[column] = pd.to_datetime(df[column])\n",
        "    df[column + '_year'] = df[column].apply(lambda x: x.year)\n",
        "    df[column + '_month'] = df[column].apply(lambda x: x.month)\n",
        "    df[column + '_day'] = df[column].apply(lambda x: x.day)\n",
        "    df = df.drop(column, axis=1)\n",
        "    return df"
      ],
      "metadata": {
        "id": "pIsUpWY9G3m-"
      },
      "execution_count": null,
      "outputs": []
    },
    {
      "cell_type": "code",
      "source": [
        "def preprocess_inputs(df):\n",
        "    df = df.copy()\n",
        "    \n",
        "    # Drop unnecessary columns\n",
        "    df = df.drop(['Row ID', 'Customer Name', 'Country', 'Product Name', 'City', 'State', 'Region'], axis=1)\n",
        "    \n",
        "    # Drop customer-specific feature columns\n",
        "    df = df.drop(['Order ID', 'Customer ID'], axis=1)\n",
        "    \n",
        "    # Extract date features\n",
        "    df = encode_dates(df, column='Order Date')\n",
        "    df = encode_dates(df, column='Ship Date')\n",
        "\n",
        "    return df"
      ],
      "metadata": {
        "id": "Nmwfwr-StoCn"
      },
      "execution_count": null,
      "outputs": []
    },
    {
      "cell_type": "code",
      "source": [
        "X = preprocess_inputs(data)"
      ],
      "metadata": {
        "id": "tWwrtyQtt-ZH"
      },
      "execution_count": null,
      "outputs": []
    },
    {
      "cell_type": "code",
      "source": [
        "X.head(2)\n",
        "X.info()"
      ],
      "metadata": {
        "colab": {
          "base_uri": "https://localhost:8080/"
        },
        "id": "Hfa7SwBHJJbI",
        "outputId": "bdf0498e-c9d4-4b60-f591-8c1306c4eb7a"
      },
      "execution_count": null,
      "outputs": [
        {
          "output_type": "stream",
          "name": "stdout",
          "text": [
            "<class 'pandas.core.frame.DataFrame'>\n",
            "Int64Index: 9789 entries, 0 to 9799\n",
            "Data columns (total 13 columns):\n",
            " #   Column            Non-Null Count  Dtype  \n",
            "---  ------            --------------  -----  \n",
            " 0   Ship Mode         9789 non-null   object \n",
            " 1   Segment           9789 non-null   object \n",
            " 2   Postal Code       9789 non-null   float64\n",
            " 3   Product ID        9789 non-null   object \n",
            " 4   Category          9789 non-null   object \n",
            " 5   Sub-Category      9789 non-null   object \n",
            " 6   Sales             9789 non-null   float64\n",
            " 7   Order Date_year   9789 non-null   int64  \n",
            " 8   Order Date_month  9789 non-null   int64  \n",
            " 9   Order Date_day    9789 non-null   int64  \n",
            " 10  Ship Date_year    9789 non-null   int64  \n",
            " 11  Ship Date_month   9789 non-null   int64  \n",
            " 12  Ship Date_day     9789 non-null   int64  \n",
            "dtypes: float64(2), int64(6), object(5)\n",
            "memory usage: 1.0+ MB\n"
          ]
        }
      ]
    },
    {
      "cell_type": "code",
      "source": [
        "print (X['Ship Mode'].value_counts())\n",
        "plt.figure(figsize=(12,6))\n",
        "sns.countplot(x=X['Ship Mode'], order=(X['Ship Mode'].value_counts().head(50)).index)\n",
        "plt.xticks(rotation=90)"
      ],
      "metadata": {
        "colab": {
          "base_uri": "https://localhost:8080/",
          "height": 557
        },
        "id": "Q67TMohGKuU9",
        "outputId": "e0310f97-006d-4641-d710-9d9ae2e1a0c4"
      },
      "execution_count": null,
      "outputs": [
        {
          "output_type": "stream",
          "name": "stdout",
          "text": [
            "Standard Class    5849\n",
            "Second Class      1901\n",
            "First Class       1501\n",
            "Same Day           538\n",
            "Name: Ship Mode, dtype: int64\n"
          ]
        },
        {
          "output_type": "execute_result",
          "data": {
            "text/plain": [
              "(array([0, 1, 2, 3]), <a list of 4 Text major ticklabel objects>)"
            ]
          },
          "metadata": {},
          "execution_count": 18
        },
        {
          "output_type": "display_data",
          "data": {
            "text/plain": [
              "<Figure size 864x432 with 1 Axes>"
            ],
            "image/png": "[encoded data removed]"
          },
          "metadata": {
            "needs_background": "light"
          }
        }
      ]
    },
    {
      "cell_type": "code",
      "source": [
        "print (X['Segment'].value_counts())\n",
        "plt.figure(figsize=(12,6))\n",
        "sns.countplot(x=X['Segment'], order=(X['Segment'].value_counts().head(50)).index)\n",
        "plt.xticks(rotation=90)"
      ],
      "metadata": {
        "colab": {
          "base_uri": "https://localhost:8080/",
          "height": 527
        },
        "id": "vBm5JlgVYbQL",
        "outputId": "39fda8ce-f2a9-4898-8082-45cc6d028bce"
      },
      "execution_count": null,
      "outputs": [
        {
          "output_type": "stream",
          "name": "stdout",
          "text": [
            "Consumer       5096\n",
            "Corporate      2948\n",
            "Home Office    1745\n",
            "Name: Segment, dtype: int64\n"
          ]
        },
        {
          "output_type": "execute_result",
          "data": {
            "text/plain": [
              "(array([0, 1, 2]), <a list of 3 Text major ticklabel objects>)"
            ]
          },
          "metadata": {},
          "execution_count": 19
        },
        {
          "output_type": "display_data",
          "data": {
            "text/plain": [
              "<Figure size 864x432 with 1 Axes>"
            ],
            "image/png": "[encoded data removed]"
          },
          "metadata": {
            "needs_background": "light"
          }
        }
      ]
    },
    {
      "cell_type": "code",
      "source": [
        "print (X['Category'].value_counts())\n",
        "plt.figure(figsize=(12,6))\n",
        "sns.countplot(x=X['Category'], order=(X['Category'].value_counts().head(50)).index)\n",
        "plt.xticks(rotation=90)"
      ],
      "metadata": {
        "colab": {
          "base_uri": "https://localhost:8080/",
          "height": 540
        },
        "id": "3xWbjaPbTg3l",
        "outputId": "14270bd9-5acd-44d5-e6a1-7d01762311ab"
      },
      "execution_count": null,
      "outputs": [
        {
          "output_type": "stream",
          "name": "stdout",
          "text": [
            "Office Supplies    5903\n",
            "Furniture          2076\n",
            "Technology         1810\n",
            "Name: Category, dtype: int64\n"
          ]
        },
        {
          "output_type": "execute_result",
          "data": {
            "text/plain": [
              "(array([0, 1, 2]), <a list of 3 Text major ticklabel objects>)"
            ]
          },
          "metadata": {},
          "execution_count": 20
        },
        {
          "output_type": "display_data",
          "data": {
            "text/plain": [
              "<Figure size 864x432 with 1 Axes>"
            ],
            "image/png": "[encoded data removed]"
          },
          "metadata": {
            "needs_background": "light"
          }
        }
      ]
    },
    {
      "cell_type": "code",
      "source": [
        "print (X['Sub-Category'].value_counts())\n",
        "plt.figure(figsize=(12,6))\n",
        "sns.countplot(x=X['Sub-Category'], order=(X['Sub-Category'].value_counts().head(50)).index)\n",
        "plt.xticks(rotation=90)"
      ],
      "metadata": {
        "colab": {
          "base_uri": "https://localhost:8080/",
          "height": 784
        },
        "id": "J9dgEeHKXWSS",
        "outputId": "7ef466f9-f558-4902-c26e-6f8f7a68189e"
      },
      "execution_count": null,
      "outputs": [
        {
          "output_type": "stream",
          "name": "stdout",
          "text": [
            "Binders        1492\n",
            "Paper          1336\n",
            "Furnishings     931\n",
            "Phones          875\n",
            "Storage         831\n",
            "Art             784\n",
            "Accessories     754\n",
            "Chairs          606\n",
            "Appliances      458\n",
            "Labels          357\n",
            "Tables          314\n",
            "Envelopes       247\n",
            "Bookcases       225\n",
            "Fasteners       214\n",
            "Supplies        184\n",
            "Machines        115\n",
            "Copiers          66\n",
            "Name: Sub-Category, dtype: int64\n"
          ]
        },
        {
          "output_type": "execute_result",
          "data": {
            "text/plain": [
              "(array([ 0,  1,  2,  3,  4,  5,  6,  7,  8,  9, 10, 11, 12, 13, 14, 15, 16]),\n",
              " <a list of 17 Text major ticklabel objects>)"
            ]
          },
          "metadata": {},
          "execution_count": 21
        },
        {
          "output_type": "display_data",
          "data": {
            "text/plain": [
              "<Figure size 864x432 with 1 Axes>"
            ],
            "image/png": "[encoded data removed]"
          },
          "metadata": {
            "needs_background": "light"
          }
        }
      ]
    },
    {
      "cell_type": "code",
      "source": [
        "print (X['Order Date_year'].value_counts())\n",
        "plt.figure(figsize=(12,6))\n",
        "sns.countplot(x=X['Order Date_year'], order=(X['Order Date_year'].value_counts().head(50)).index)\n",
        "plt.xticks(rotation=90)"
      ],
      "metadata": {
        "id": "fnWVcx7lY8Aq",
        "outputId": "53077eaa-d989-4474-ee0b-d9580f36942a",
        "colab": {
          "base_uri": "https://localhost:8080/",
          "height": 508
        }
      },
      "execution_count": null,
      "outputs": [
        {
          "output_type": "stream",
          "name": "stdout",
          "text": [
            "2018    3253\n",
            "2017    2530\n",
            "2016    2053\n",
            "2015    1953\n",
            "Name: Order Date_year, dtype: int64\n"
          ]
        },
        {
          "output_type": "execute_result",
          "data": {
            "text/plain": [
              "(array([0, 1, 2, 3]), <a list of 4 Text major ticklabel objects>)"
            ]
          },
          "metadata": {},
          "execution_count": 22
        },
        {
          "output_type": "display_data",
          "data": {
            "text/plain": [
              "<Figure size 864x432 with 1 Axes>"
            ],
            "image/png": "[encoded data removed]"
          },
          "metadata": {
            "needs_background": "light"
          }
        }
      ]
    },
    {
      "cell_type": "code",
      "source": [
        "# Plotting the sales with respect to categories on a monthly scale\n",
        "\n",
        "sns.lineplot(data=X, x='Order Date_month', y='Sales', hue='Category', ci=None)\n",
        "plt.legend(bbox_to_anchor=(1.37,0.9), loc='right')"
      ],
      "metadata": {
        "colab": {
          "base_uri": "https://localhost:8080/",
          "height": 300
        },
        "id": "n0argd-lHfjz",
        "outputId": "9e7c99eb-647e-4432-fd32-919423be2bfb"
      },
      "execution_count": null,
      "outputs": [
        {
          "output_type": "execute_result",
          "data": {
            "text/plain": [
              "<matplotlib.legend.Legend at 0x7f697dd00050>"
            ]
          },
          "metadata": {},
          "execution_count": 23
        },
        {
          "output_type": "display_data",
          "data": {
            "text/plain": [
              "<Figure size 432x288 with 1 Axes>"
            ],
            "image/png": "[encoded data removed]"
          },
          "metadata": {
            "needs_background": "light"
          }
        }
      ]
    },
    {
      "cell_type": "code",
      "source": [
        "# Plotting the sales with respect to categories on a yearly scale\n",
        "\n",
        "sns.lineplot(data=X, x='Order Date_year', y='Sales', hue='Category', ci=None)\n",
        "plt.legend(bbox_to_anchor=(1.37,0.9), loc='right')"
      ],
      "metadata": {
        "colab": {
          "base_uri": "https://localhost:8080/",
          "height": 300
        },
        "id": "RBDNKjRr_zBd",
        "outputId": "0bb6197c-4fe8-4b40-9adc-c5f2b870626e"
      },
      "execution_count": null,
      "outputs": [
        {
          "output_type": "execute_result",
          "data": {
            "text/plain": [
              "<matplotlib.legend.Legend at 0x7f697dc26c10>"
            ]
          },
          "metadata": {},
          "execution_count": 24
        },
        {
          "output_type": "display_data",
          "data": {
            "text/plain": [
              "<Figure size 432x288 with 1 Axes>"
            ],
            "image/png": "[encoded data removed]"
          },
          "metadata": {
            "needs_background": "light"
          }
        }
      ]
    },
    {
      "cell_type": "code",
      "source": [
        "# Plotting the sales with respect to sub-categories on a monthly scale\n",
        "\n",
        "sns.lineplot(data=X, x='Order Date_month', y='Sales', hue='Sub-Category', ci=None)\n",
        "plt.legend(bbox_to_anchor=(1.34,0.5), loc='right')"
      ],
      "metadata": {
        "colab": {
          "base_uri": "https://localhost:8080/",
          "height": 318
        },
        "id": "yYk5SWJhInkP",
        "outputId": "f7032b41-e680-4808-9054-d06718c4b9f1"
      },
      "execution_count": null,
      "outputs": [
        {
          "output_type": "execute_result",
          "data": {
            "text/plain": [
              "<matplotlib.legend.Legend at 0x7f697daebd90>"
            ]
          },
          "metadata": {},
          "execution_count": 25
        },
        {
          "output_type": "display_data",
          "data": {
            "text/plain": [
              "<Figure size 432x288 with 1 Axes>"
            ],
            "image/png": "[encoded data removed]"
          },
          "metadata": {
            "needs_background": "light"
          }
        }
      ]
    },
    {
      "cell_type": "code",
      "source": [
        "# Plotting the sales with respect to sub-categories on a yearly scale\n",
        "\n",
        "sns.lineplot(data=X, x='Order Date_year', y='Sales', hue='Sub-Category', ci=None)\n",
        "plt.legend(bbox_to_anchor=(1.34,0.5), loc='right')"
      ],
      "metadata": {
        "colab": {
          "base_uri": "https://localhost:8080/",
          "height": 318
        },
        "id": "-ZnelUExK47z",
        "outputId": "9cf7f299-f569-43c5-e345-f7126674e96d"
      },
      "execution_count": null,
      "outputs": [
        {
          "output_type": "execute_result",
          "data": {
            "text/plain": [
              "<matplotlib.legend.Legend at 0x7f697da59090>"
            ]
          },
          "metadata": {},
          "execution_count": 26
        },
        {
          "output_type": "display_data",
          "data": {
            "text/plain": [
              "<Figure size 432x288 with 1 Axes>"
            ],
            "image/png": "[encoded data removed]"
          },
          "metadata": {
            "needs_background": "light"
          }
        }
      ]
    },
    {
      "cell_type": "code",
      "source": [
        "# Plotting the sales with respect to Ship Mode on a monthly scale\n",
        "\n",
        "sns.lineplot(data=X, x='Order Date_month', y='Sales', hue='Ship Mode', ci=None)\n",
        "plt.legend(bbox_to_anchor=(1.38,0.85), loc='right')"
      ],
      "metadata": {
        "colab": {
          "base_uri": "https://localhost:8080/",
          "height": 297
        },
        "id": "AMHEA6XxI3xa",
        "outputId": "78362759-a9c2-4cd2-a12b-ecba07f21f71"
      },
      "execution_count": null,
      "outputs": [
        {
          "output_type": "execute_result",
          "data": {
            "text/plain": [
              "<matplotlib.legend.Legend at 0x7f697d89ead0>"
            ]
          },
          "metadata": {},
          "execution_count": 27
        },
        {
          "output_type": "display_data",
          "data": {
            "text/plain": [
              "<Figure size 432x288 with 1 Axes>"
            ],
            "image/png": "[encoded data removed]"
          },
          "metadata": {
            "needs_background": "light"
          }
        }
      ]
    },
    {
      "cell_type": "code",
      "source": [
        "# Plotting the sales with respect to Ship Mode on a yearly scale\n",
        "\n",
        "sns.lineplot(data=X, x='Order Date_year', y='Sales', hue='Ship Mode', ci=None)\n",
        "plt.legend(bbox_to_anchor=(1.38,0.85), loc='right')"
      ],
      "metadata": {
        "colab": {
          "base_uri": "https://localhost:8080/",
          "height": 297
        },
        "id": "fige3jBrQYRU",
        "outputId": "41408823-a782-4099-cb4a-e147a4fe07d2"
      },
      "execution_count": null,
      "outputs": [
        {
          "output_type": "execute_result",
          "data": {
            "text/plain": [
              "<matplotlib.legend.Legend at 0x7f697da19250>"
            ]
          },
          "metadata": {},
          "execution_count": 28
        },
        {
          "output_type": "display_data",
          "data": {
            "text/plain": [
              "<Figure size 432x288 with 1 Axes>"
            ],
            "image/png": "[encoded data removed]"
          },
          "metadata": {
            "needs_background": "light"
          }
        }
      ]
    },
    {
      "cell_type": "code",
      "source": [
        "# Plotting the sales with respect to Segment on a monthly scale\n",
        "\n",
        "sns.lineplot(data=X, x='Order Date_month', y='Sales', hue='Segment', ci=None)\n",
        "plt.legend(bbox_to_anchor=(1.35,0.9), loc='right')"
      ],
      "metadata": {
        "colab": {
          "base_uri": "https://localhost:8080/",
          "height": 300
        },
        "id": "DWyuODNKI-TA",
        "outputId": "4664c0fb-a2f6-4162-cd05-3b3b0ef1157c"
      },
      "execution_count": null,
      "outputs": [
        {
          "output_type": "execute_result",
          "data": {
            "text/plain": [
              "<matplotlib.legend.Legend at 0x7f697d73aad0>"
            ]
          },
          "metadata": {},
          "execution_count": 29
        },
        {
          "output_type": "display_data",
          "data": {
            "text/plain": [
              "<Figure size 432x288 with 1 Axes>"
            ],
            "image/png": "[encoded data removed]"
          },
          "metadata": {
            "needs_background": "light"
          }
        }
      ]
    },
    {
      "cell_type": "code",
      "source": [
        "# Plotting the sales with respect to Segment on a yearly scale\n",
        "\n",
        "sns.lineplot(data=X, x='Order Date_year', y='Sales', hue='Segment', ci=None)\n",
        "plt.legend(bbox_to_anchor=(1.35,0.9), loc='right')"
      ],
      "metadata": {
        "colab": {
          "base_uri": "https://localhost:8080/",
          "height": 300
        },
        "id": "Z-g4Q01FXDKZ",
        "outputId": "64ad5a9f-bee8-41fe-fe39-767514c03557"
      },
      "execution_count": null,
      "outputs": [
        {
          "output_type": "execute_result",
          "data": {
            "text/plain": [
              "<matplotlib.legend.Legend at 0x7f697dca7090>"
            ]
          },
          "metadata": {},
          "execution_count": 30
        },
        {
          "output_type": "display_data",
          "data": {
            "text/plain": [
              "<Figure size 432x288 with 1 Axes>"
            ],
            "image/png": "[encoded data removed]"
          },
          "metadata": {
            "needs_background": "light"
          }
        }
      ]
    },
    {
      "cell_type": "code",
      "source": [
        "# # Extracting the categorical features in a binary form, from respective columns\n",
        "\n",
        "X_new = X\n",
        "category = pd.get_dummies(X_new['Category'])\n",
        "# ship_mode = pd.get_dummies(X_new['Ship Mode'])\n",
        "# segment = pd.get_dummies(X_new['Segment'])"
      ],
      "metadata": {
        "id": "3k3U2CRkXaeg"
      },
      "execution_count": null,
      "outputs": []
    },
    {
      "cell_type": "code",
      "source": [
        "# Concatenating the extracted features into the dataset\n",
        "\n",
        "X['Furniture'] = category['Furniture'].to_list()\n",
        "X['Office Supplies'] = category['Office Supplies'].to_list()\n",
        "X['Technology'] = category['Technology'].to_list()"
      ],
      "metadata": {
        "id": "2Z8t6BOAn2y3"
      },
      "execution_count": null,
      "outputs": []
    },
    {
      "cell_type": "code",
      "source": [
        "\n",
        "# X['First Class'] = ship_mode['First Class'].to_list()\n",
        "# X['Same Day'] = ship_mode['Same Day'].to_list()\n",
        "# X['Second Class'] = ship_mode['Second Class'].to_list()\n",
        "# X['Standard Class'] = ship_mode['Standard Class'].to_list()"
      ],
      "metadata": {
        "id": "9RyKbbCf8ckT"
      },
      "execution_count": null,
      "outputs": []
    },
    {
      "cell_type": "code",
      "source": [
        "# X['Consumer'] = segment['Consumer'].to_list()\n",
        "# X['Corporate'] = segment['Corporate'].to_list()\n",
        "# X['Home Office'] = segment['Home Office'].to_list()"
      ],
      "metadata": {
        "id": "M-ojvHmXCkZE"
      },
      "execution_count": null,
      "outputs": []
    },
    {
      "cell_type": "code",
      "source": [
        "  le_product_id = LabelEncoder()"
      ],
      "metadata": {
        "id": "9E2GNqPpfaEw"
      },
      "execution_count": null,
      "outputs": []
    },
    {
      "cell_type": "code",
      "source": [
        "X['Product_id'] = le_product_id.fit_transform(X['Product ID'])"
      ],
      "metadata": {
        "id": "F-yzGfCTfg4O"
      },
      "execution_count": null,
      "outputs": []
    },
    {
      "cell_type": "code",
      "source": [
        "X.head(2)"
      ],
      "metadata": {
        "colab": {
          "base_uri": "https://localhost:8080/",
          "height": 228
        },
        "id": "oax88aemodwb",
        "outputId": "76eb8877-be1e-46cf-bbad-939640648bcd"
      },
      "execution_count": null,
      "outputs": [
        {
          "output_type": "execute_result",
          "data": {
            "text/plain": [
              "      Ship Mode   Segment  Postal Code       Product ID   Category  \\\n",
              "0  Second Class  Consumer      42420.0  FUR-BO-10001798  Furniture   \n",
              "1  Second Class  Consumer      42420.0  FUR-CH-10000454  Furniture   \n",
              "\n",
              "  Sub-Category   Sales  Order Date_year  Order Date_month  Order Date_day  \\\n",
              "0    Bookcases  261.96             2017                 8              11   \n",
              "1       Chairs  731.94             2017                 8              11   \n",
              "\n",
              "   Ship Date_year  Ship Date_month  Ship Date_day  Furniture  Office Supplies  \\\n",
              "0            2017               11             11          1                0   \n",
              "1            2017               11             11          1                0   \n",
              "\n",
              "   Technology  Product_id  \n",
              "0           0          12  \n",
              "1           0          55  "
            ],
            "text/html": [
              "\n",
              "  <div id=\"df-f76cb3c7-42e8-4d07-8f99-5bcae5af9194\">\n",
              "    <div class=\"colab-df-container\">\n",
              "      <div>\n",
              "<style scoped>\n",
              "    .dataframe tbody tr th:only-of-type {\n",
              "        vertical-align: middle;\n",
              "    }\n",
              "\n",
              "    .dataframe tbody tr th {\n",
              "        vertical-align: top;\n",
              "    }\n",
              "\n",
              "    .dataframe thead th {\n",
              "        text-align: right;\n",
              "    }\n",
              "</style>\n",
              "<table border=\"1\" class=\"dataframe\">\n",
              "  <thead>\n",
              "    <tr style=\"text-align: right;\">\n",
              "      <th></th>\n",
              "      <th>Ship Mode</th>\n",
              "      <th>Segment</th>\n",
              "      <th>Postal Code</th>\n",
              "      <th>Product ID</th>\n",
              "      <th>Category</th>\n",
              "      <th>Sub-Category</th>\n",
              "      <th>Sales</th>\n",
              "      <th>Order Date_year</th>\n",
              "      <th>Order Date_month</th>\n",
              "      <th>Order Date_day</th>\n",
              "      <th>Ship Date_year</th>\n",
              "      <th>Ship Date_month</th>\n",
              "      <th>Ship Date_day</th>\n",
              "      <th>Furniture</th>\n",
              "      <th>Office Supplies</th>\n",
              "      <th>Technology</th>\n",
              "      <th>Product_id</th>\n",
              "    </tr>\n",
              "  </thead>\n",
              "  <tbody>\n",
              "    <tr>\n",
              "      <th>0</th>\n",
              "      <td>Second Class</td>\n",
              "      <td>Consumer</td>\n",
              "      <td>42420.0</td>\n",
              "      <td>FUR-BO-10001798</td>\n",
              "      <td>Furniture</td>\n",
              "      <td>Bookcases</td>\n",
              "      <td>261.96</td>\n",
              "      <td>2017</td>\n",
              "      <td>8</td>\n",
              "      <td>11</td>\n",
              "      <td>2017</td>\n",
              "      <td>11</td>\n",
              "      <td>11</td>\n",
              "      <td>1</td>\n",
              "      <td>0</td>\n",
              "      <td>0</td>\n",
              "      <td>12</td>\n",
              "    </tr>\n",
              "    <tr>\n",
              "      <th>1</th>\n",
              "      <td>Second Class</td>\n",
              "      <td>Consumer</td>\n",
              "      <td>42420.0</td>\n",
              "      <td>FUR-CH-10000454</td>\n",
              "      <td>Furniture</td>\n",
              "      <td>Chairs</td>\n",
              "      <td>731.94</td>\n",
              "      <td>2017</td>\n",
              "      <td>8</td>\n",
              "      <td>11</td>\n",
              "      <td>2017</td>\n",
              "      <td>11</td>\n",
              "      <td>11</td>\n",
              "      <td>1</td>\n",
              "      <td>0</td>\n",
              "      <td>0</td>\n",
              "      <td>55</td>\n",
              "    </tr>\n",
              "  </tbody>\n",
              "</table>\n",
              "</div>\n",
              "      <button class=\"colab-df-convert\" onclick=\"convertToInteractive('df-f76cb3c7-42e8-4d07-8f99-5bcae5af9194')\"\n",
              "              title=\"Convert this dataframe to an interactive table.\"\n",
              "              style=\"display:none;\">\n",
              "        \n",
              "  <svg xmlns=\"http://www.w3.org/2000/svg\" height=\"24px\"viewBox=\"0 0 24 24\"\n",
              "       width=\"24px\">\n",
              "    <path d=\"M0 0h24v24H0V0z\" fill=\"none\"/>\n",
              "    <path d=\"M18.56 5.44l.94 2.06.94-2.06 2.06-.94-2.06-.94-.94-2.06-.94 2.06-2.06.94zm-11 1L8.5 8.5l.94-2.06 2.06-.94-2.06-.94L8.5 2.5l-.94 2.06-2.06.94zm10 10l.94 2.06.94-2.06 2.06-.94-2.06-.94-.94-2.06-.94 2.06-2.06.94z\"/><path d=\"M17.41 7.96l-1.37-1.37c-.4-.4-.92-.59-1.43-.59-.52 0-1.04.2-1.43.59L10.3 9.45l-7.72 7.72c-.78.78-.78 2.05 0 2.83L4 21.41c.39.39.9.59 1.41.59.51 0 1.02-.2 1.41-.59l7.78-7.78 2.81-2.81c.8-.78.8-2.07 0-2.86zM5.41 20L4 18.59l7.72-7.72 1.47 1.35L5.41 20z\"/>\n",
              "  </svg>\n",
              "      </button>\n",
              "      \n",
              "  <style>\n",
              "    .colab-df-container {\n",
              "      display:flex;\n",
              "      flex-wrap:wrap;\n",
              "      gap: 12px;\n",
              "    }\n",
              "\n",
              "    .colab-df-convert {\n",
              "      background-color: #E8F0FE;\n",
              "      border: none;\n",
              "      border-radius: 50%;\n",
              "      cursor: pointer;\n",
              "      display: none;\n",
              "      fill: #1967D2;\n",
              "      height: 32px;\n",
              "      padding: 0 0 0 0;\n",
              "      width: 32px;\n",
              "    }\n",
              "\n",
              "    .colab-df-convert:hover {\n",
              "      background-color: #E2EBFA;\n",
              "      box-shadow: 0px 1px 2px rgba(60, 64, 67, 0.3), 0px 1px 3px 1px rgba(60, 64, 67, 0.15);\n",
              "      fill: #174EA6;\n",
              "    }\n",
              "\n",
              "    [theme=dark] .colab-df-convert {\n",
              "      background-color: #3B4455;\n",
              "      fill: #D2E3FC;\n",
              "    }\n",
              "\n",
              "    [theme=dark] .colab-df-convert:hover {\n",
              "      background-color: #434B5C;\n",
              "      box-shadow: 0px 1px 3px 1px rgba(0, 0, 0, 0.15);\n",
              "      filter: drop-shadow(0px 1px 2px rgba(0, 0, 0, 0.3));\n",
              "      fill: #FFFFFF;\n",
              "    }\n",
              "  </style>\n",
              "\n",
              "      <script>\n",
              "        const buttonEl =\n",
              "          document.querySelector('#df-f76cb3c7-42e8-4d07-8f99-5bcae5af9194 button.colab-df-convert');\n",
              "        buttonEl.style.display =\n",
              "          google.colab.kernel.accessAllowed ? 'block' : 'none';\n",
              "\n",
              "        async function convertToInteractive(key) {\n",
              "          const element = document.querySelector('#df-f76cb3c7-42e8-4d07-8f99-5bcae5af9194');\n",
              "          const dataTable =\n",
              "            await google.colab.kernel.invokeFunction('convertToInteractive',\n",
              "                                                     [key], {});\n",
              "          if (!dataTable) return;\n",
              "\n",
              "          const docLinkHtml = 'Like what you see? Visit the ' +\n",
              "            '<a target=\"_blank\" href=https://colab.research.google.com/notebooks/data_table.ipynb>data table notebook</a>'\n",
              "            + ' to learn more about interactive tables.';\n",
              "          element.innerHTML = '';\n",
              "          dataTable['output_type'] = 'display_data';\n",
              "          await google.colab.output.renderOutput(dataTable, element);\n",
              "          const docLink = document.createElement('div');\n",
              "          docLink.innerHTML = docLinkHtml;\n",
              "          element.appendChild(docLink);\n",
              "        }\n",
              "      </script>\n",
              "    </div>\n",
              "  </div>\n",
              "  "
            ]
          },
          "metadata": {},
          "execution_count": 37
        }
      ]
    },
    {
      "cell_type": "code",
      "source": [
        "X.info()"
      ],
      "metadata": {
        "id": "BaNJjboTe9qg",
        "outputId": "b74072a4-b549-43bf-dbb8-cce0a0895a64",
        "colab": {
          "base_uri": "https://localhost:8080/"
        }
      },
      "execution_count": null,
      "outputs": [
        {
          "output_type": "stream",
          "name": "stdout",
          "text": [
            "<class 'pandas.core.frame.DataFrame'>\n",
            "Int64Index: 9789 entries, 0 to 9799\n",
            "Data columns (total 17 columns):\n",
            " #   Column            Non-Null Count  Dtype  \n",
            "---  ------            --------------  -----  \n",
            " 0   Ship Mode         9789 non-null   object \n",
            " 1   Segment           9789 non-null   object \n",
            " 2   Postal Code       9789 non-null   float64\n",
            " 3   Product ID        9789 non-null   object \n",
            " 4   Category          9789 non-null   object \n",
            " 5   Sub-Category      9789 non-null   object \n",
            " 6   Sales             9789 non-null   float64\n",
            " 7   Order Date_year   9789 non-null   int64  \n",
            " 8   Order Date_month  9789 non-null   int64  \n",
            " 9   Order Date_day    9789 non-null   int64  \n",
            " 10  Ship Date_year    9789 non-null   int64  \n",
            " 11  Ship Date_month   9789 non-null   int64  \n",
            " 12  Ship Date_day     9789 non-null   int64  \n",
            " 13  Furniture         9789 non-null   int64  \n",
            " 14  Office Supplies   9789 non-null   int64  \n",
            " 15  Technology        9789 non-null   int64  \n",
            " 16  Product_id        9789 non-null   int64  \n",
            "dtypes: float64(2), int64(10), object(5)\n",
            "memory usage: 1.6+ MB\n"
          ]
        }
      ]
    },
    {
      "cell_type": "code",
      "source": [
        "# Drop the original columns\n",
        "\n",
        "X = X.drop(['Ship Mode', 'Category', 'Segment', 'Product ID', 'Sub-Category', 'Order Date_month', 'Order Date_day', 'Ship Date_year', 'Ship Date_month', 'Ship Date_day'], axis=1)"
      ],
      "metadata": {
        "id": "ZcR7DRDdofio"
      },
      "execution_count": null,
      "outputs": []
    },
    {
      "cell_type": "code",
      "source": [
        "plt.figure(figsize = (15,10))\n",
        "sns.heatmap(X.corr(), annot = True)"
      ],
      "metadata": {
        "colab": {
          "base_uri": "https://localhost:8080/",
          "height": 613
        },
        "id": "-fC3AKhH5J1S",
        "outputId": "3891775a-aced-4868-b49e-cf28eaab959c"
      },
      "execution_count": null,
      "outputs": [
        {
          "output_type": "execute_result",
          "data": {
            "text/plain": [
              "<matplotlib.axes._subplots.AxesSubplot at 0x7f697e3f5810>"
            ]
          },
          "metadata": {},
          "execution_count": 40
        },
        {
          "output_type": "display_data",
          "data": {
            "text/plain": [
              "<Figure size 1080x720 with 2 Axes>"
            ],
            "image/png": "[encoded data removed]"
          },
          "metadata": {
            "needs_background": "light"
          }
        }
      ]
    },
    {
      "cell_type": "code",
      "source": [
        "# with the following function we can select highly correlated features\n",
        "# it will remove the first feature that is correlated with anything other feature\n",
        "\n",
        "def correlation(X, threshold):\n",
        "    col_corr = set()  # Set of all the names of correlated columns\n",
        "    corr_matrix = X.corr()\n",
        "    for i in range(len(corr_matrix.columns)):\n",
        "        for j in range(i):\n",
        "            if abs(corr_matrix.iloc[i, j]) > threshold: # we are interested in absolute coeff value\n",
        "                colname = corr_matrix.columns[i]  # getting the name of column\n",
        "                col_corr.add(colname)\n",
        "    return col_corr"
      ],
      "metadata": {
        "id": "8CIsmfL-5Jjb"
      },
      "execution_count": null,
      "outputs": []
    },
    {
      "cell_type": "code",
      "source": [
        "corr_features = correlation(X, 0.7)\n",
        "len(set(corr_features))"
      ],
      "metadata": {
        "colab": {
          "base_uri": "https://localhost:8080/"
        },
        "id": "xuTSkFVQDRZP",
        "outputId": "fd1e75b4-bd30-4cab-a915-eea5a5546b43"
      },
      "execution_count": null,
      "outputs": [
        {
          "output_type": "execute_result",
          "data": {
            "text/plain": [
              "1"
            ]
          },
          "metadata": {},
          "execution_count": 42
        }
      ]
    },
    {
      "cell_type": "code",
      "source": [
        "corr_features"
      ],
      "metadata": {
        "colab": {
          "base_uri": "https://localhost:8080/"
        },
        "id": "Kbyt583NDRI3",
        "outputId": "0f20b907-9f19-4b9e-df53-155403dbf1d0"
      },
      "execution_count": null,
      "outputs": [
        {
          "output_type": "execute_result",
          "data": {
            "text/plain": [
              "{'Product_id'}"
            ]
          },
          "metadata": {},
          "execution_count": 43
        }
      ]
    },
    {
      "cell_type": "code",
      "source": [
        "X.drop(corr_features,axis=1)"
      ],
      "metadata": {
        "colab": {
          "base_uri": "https://localhost:8080/",
          "height": 424
        },
        "id": "TLXBSGyBD2uA",
        "outputId": "0de134e0-b32c-4a3f-e017-2ad2f082b86f"
      },
      "execution_count": null,
      "outputs": [
        {
          "output_type": "execute_result",
          "data": {
            "text/plain": [
              "      Postal Code     Sales  Order Date_year  Furniture  Office Supplies  \\\n",
              "0         42420.0  261.9600             2017          1                0   \n",
              "1         42420.0  731.9400             2017          1                0   \n",
              "2         90036.0   14.6200             2017          0                1   \n",
              "3         33311.0  957.5775             2016          1                0   \n",
              "4         33311.0   22.3680             2016          0                1   \n",
              "...           ...       ...              ...        ...              ...   \n",
              "9795      60610.0    3.7980             2017          0                1   \n",
              "9796      43615.0   10.3680             2016          0                1   \n",
              "9797      43615.0  235.1880             2016          0                0   \n",
              "9798      43615.0   26.3760             2016          0                0   \n",
              "9799      43615.0   10.3840             2016          0                0   \n",
              "\n",
              "      Technology  \n",
              "0              0  \n",
              "1              0  \n",
              "2              0  \n",
              "3              0  \n",
              "4              0  \n",
              "...          ...  \n",
              "9795           0  \n",
              "9796           0  \n",
              "9797           1  \n",
              "9798           1  \n",
              "9799           1  \n",
              "\n",
              "[9789 rows x 6 columns]"
            ],
            "text/html": [
              "\n",
              "  <div id=\"df-463098c5-7b1d-497c-8185-a62afe134236\">\n",
              "    <div class=\"colab-df-container\">\n",
              "      <div>\n",
              "<style scoped>\n",
              "    .dataframe tbody tr th:only-of-type {\n",
              "        vertical-align: middle;\n",
              "    }\n",
              "\n",
              "    .dataframe tbody tr th {\n",
              "        vertical-align: top;\n",
              "    }\n",
              "\n",
              "    .dataframe thead th {\n",
              "        text-align: right;\n",
              "    }\n",
              "</style>\n",
              "<table border=\"1\" class=\"dataframe\">\n",
              "  <thead>\n",
              "    <tr style=\"text-align: right;\">\n",
              "      <th></th>\n",
              "      <th>Postal Code</th>\n",
              "      <th>Sales</th>\n",
              "      <th>Order Date_year</th>\n",
              "      <th>Furniture</th>\n",
              "      <th>Office Supplies</th>\n",
              "      <th>Technology</th>\n",
              "    </tr>\n",
              "  </thead>\n",
              "  <tbody>\n",
              "    <tr>\n",
              "      <th>0</th>\n",
              "      <td>42420.0</td>\n",
              "      <td>261.9600</td>\n",
              "      <td>2017</td>\n",
              "      <td>1</td>\n",
              "      <td>0</td>\n",
              "      <td>0</td>\n",
              "    </tr>\n",
              "    <tr>\n",
              "      <th>1</th>\n",
              "      <td>42420.0</td>\n",
              "      <td>731.9400</td>\n",
              "      <td>2017</td>\n",
              "      <td>1</td>\n",
              "      <td>0</td>\n",
              "      <td>0</td>\n",
              "    </tr>\n",
              "    <tr>\n",
              "      <th>2</th>\n",
              "      <td>90036.0</td>\n",
              "      <td>14.6200</td>\n",
              "      <td>2017</td>\n",
              "      <td>0</td>\n",
              "      <td>1</td>\n",
              "      <td>0</td>\n",
              "    </tr>\n",
              "    <tr>\n",
              "      <th>3</th>\n",
              "      <td>33311.0</td>\n",
              "      <td>957.5775</td>\n",
              "      <td>2016</td>\n",
              "      <td>1</td>\n",
              "      <td>0</td>\n",
              "      <td>0</td>\n",
              "    </tr>\n",
              "    <tr>\n",
              "      <th>4</th>\n",
              "      <td>33311.0</td>\n",
              "      <td>22.3680</td>\n",
              "      <td>2016</td>\n",
              "      <td>0</td>\n",
              "      <td>1</td>\n",
              "      <td>0</td>\n",
              "    </tr>\n",
              "    <tr>\n",
              "      <th>...</th>\n",
              "      <td>...</td>\n",
              "      <td>...</td>\n",
              "      <td>...</td>\n",
              "      <td>...</td>\n",
              "      <td>...</td>\n",
              "      <td>...</td>\n",
              "    </tr>\n",
              "    <tr>\n",
              "      <th>9795</th>\n",
              "      <td>60610.0</td>\n",
              "      <td>3.7980</td>\n",
              "      <td>2017</td>\n",
              "      <td>0</td>\n",
              "      <td>1</td>\n",
              "      <td>0</td>\n",
              "    </tr>\n",
              "    <tr>\n",
              "      <th>9796</th>\n",
              "      <td>43615.0</td>\n",
              "      <td>10.3680</td>\n",
              "      <td>2016</td>\n",
              "      <td>0</td>\n",
              "      <td>1</td>\n",
              "      <td>0</td>\n",
              "    </tr>\n",
              "    <tr>\n",
              "      <th>9797</th>\n",
              "      <td>43615.0</td>\n",
              "      <td>235.1880</td>\n",
              "      <td>2016</td>\n",
              "      <td>0</td>\n",
              "      <td>0</td>\n",
              "      <td>1</td>\n",
              "    </tr>\n",
              "    <tr>\n",
              "      <th>9798</th>\n",
              "      <td>43615.0</td>\n",
              "      <td>26.3760</td>\n",
              "      <td>2016</td>\n",
              "      <td>0</td>\n",
              "      <td>0</td>\n",
              "      <td>1</td>\n",
              "    </tr>\n",
              "    <tr>\n",
              "      <th>9799</th>\n",
              "      <td>43615.0</td>\n",
              "      <td>10.3840</td>\n",
              "      <td>2016</td>\n",
              "      <td>0</td>\n",
              "      <td>0</td>\n",
              "      <td>1</td>\n",
              "    </tr>\n",
              "  </tbody>\n",
              "</table>\n",
              "<p>9789 rows × 6 columns</p>\n",
              "</div>\n",
              "      <button class=\"colab-df-convert\" onclick=\"convertToInteractive('df-463098c5-7b1d-497c-8185-a62afe134236')\"\n",
              "              title=\"Convert this dataframe to an interactive table.\"\n",
              "              style=\"display:none;\">\n",
              "        \n",
              "  <svg xmlns=\"http://www.w3.org/2000/svg\" height=\"24px\"viewBox=\"0 0 24 24\"\n",
              "       width=\"24px\">\n",
              "    <path d=\"M0 0h24v24H0V0z\" fill=\"none\"/>\n",
              "    <path d=\"M18.56 5.44l.94 2.06.94-2.06 2.06-.94-2.06-.94-.94-2.06-.94 2.06-2.06.94zm-11 1L8.5 8.5l.94-2.06 2.06-.94-2.06-.94L8.5 2.5l-.94 2.06-2.06.94zm10 10l.94 2.06.94-2.06 2.06-.94-2.06-.94-.94-2.06-.94 2.06-2.06.94z\"/><path d=\"M17.41 7.96l-1.37-1.37c-.4-.4-.92-.59-1.43-.59-.52 0-1.04.2-1.43.59L10.3 9.45l-7.72 7.72c-.78.78-.78 2.05 0 2.83L4 21.41c.39.39.9.59 1.41.59.51 0 1.02-.2 1.41-.59l7.78-7.78 2.81-2.81c.8-.78.8-2.07 0-2.86zM5.41 20L4 18.59l7.72-7.72 1.47 1.35L5.41 20z\"/>\n",
              "  </svg>\n",
              "      </button>\n",
              "      \n",
              "  <style>\n",
              "    .colab-df-container {\n",
              "      display:flex;\n",
              "      flex-wrap:wrap;\n",
              "      gap: 12px;\n",
              "    }\n",
              "\n",
              "    .colab-df-convert {\n",
              "      background-color: #E8F0FE;\n",
              "      border: none;\n",
              "      border-radius: 50%;\n",
              "      cursor: pointer;\n",
              "      display: none;\n",
              "      fill: #1967D2;\n",
              "      height: 32px;\n",
              "      padding: 0 0 0 0;\n",
              "      width: 32px;\n",
              "    }\n",
              "\n",
              "    .colab-df-convert:hover {\n",
              "      background-color: #E2EBFA;\n",
              "      box-shadow: 0px 1px 2px rgba(60, 64, 67, 0.3), 0px 1px 3px 1px rgba(60, 64, 67, 0.15);\n",
              "      fill: #174EA6;\n",
              "    }\n",
              "\n",
              "    [theme=dark] .colab-df-convert {\n",
              "      background-color: #3B4455;\n",
              "      fill: #D2E3FC;\n",
              "    }\n",
              "\n",
              "    [theme=dark] .colab-df-convert:hover {\n",
              "      background-color: #434B5C;\n",
              "      box-shadow: 0px 1px 3px 1px rgba(0, 0, 0, 0.15);\n",
              "      filter: drop-shadow(0px 1px 2px rgba(0, 0, 0, 0.3));\n",
              "      fill: #FFFFFF;\n",
              "    }\n",
              "  </style>\n",
              "\n",
              "      <script>\n",
              "        const buttonEl =\n",
              "          document.querySelector('#df-463098c5-7b1d-497c-8185-a62afe134236 button.colab-df-convert');\n",
              "        buttonEl.style.display =\n",
              "          google.colab.kernel.accessAllowed ? 'block' : 'none';\n",
              "\n",
              "        async function convertToInteractive(key) {\n",
              "          const element = document.querySelector('#df-463098c5-7b1d-497c-8185-a62afe134236');\n",
              "          const dataTable =\n",
              "            await google.colab.kernel.invokeFunction('convertToInteractive',\n",
              "                                                     [key], {});\n",
              "          if (!dataTable) return;\n",
              "\n",
              "          const docLinkHtml = 'Like what you see? Visit the ' +\n",
              "            '<a target=\"_blank\" href=https://colab.research.google.com/notebooks/data_table.ipynb>data table notebook</a>'\n",
              "            + ' to learn more about interactive tables.';\n",
              "          element.innerHTML = '';\n",
              "          dataTable['output_type'] = 'display_data';\n",
              "          await google.colab.output.renderOutput(dataTable, element);\n",
              "          const docLink = document.createElement('div');\n",
              "          docLink.innerHTML = docLinkHtml;\n",
              "          element.appendChild(docLink);\n",
              "        }\n",
              "      </script>\n",
              "    </div>\n",
              "  </div>\n",
              "  "
            ]
          },
          "metadata": {},
          "execution_count": 44
        }
      ]
    },
    {
      "cell_type": "code",
      "source": [
        "# Split the dataset into x and y\n",
        "y = X['Sales']\n",
        "x = X.drop('Sales', axis=1)\n",
        "\n",
        "# Train-test split\n",
        "x_train, x_test, y_train, y_test = train_test_split(x, y, train_size = 0.7, shuffle = True, random_state = 1)"
      ],
      "metadata": {
        "id": "1_5zBmbJot_g"
      },
      "execution_count": null,
      "outputs": []
    },
    {
      "cell_type": "code",
      "source": [
        "x_train.shape"
      ],
      "metadata": {
        "id": "e3nUM4dk4cNa",
        "colab": {
          "base_uri": "https://localhost:8080/"
        },
        "outputId": "9da38529-2bdf-464c-f70e-b2c8e90a6247"
      },
      "execution_count": null,
      "outputs": [
        {
          "output_type": "execute_result",
          "data": {
            "text/plain": [
              "(6852, 6)"
            ]
          },
          "metadata": {},
          "execution_count": 46
        }
      ]
    },
    {
      "cell_type": "code",
      "source": [
        "y_train.head()"
      ],
      "metadata": {
        "colab": {
          "base_uri": "https://localhost:8080/"
        },
        "id": "XUrJDXOvbmV8",
        "outputId": "f0a2270b-ed21-4000-9b68-5877330fa1ee"
      },
      "execution_count": null,
      "outputs": [
        {
          "output_type": "execute_result",
          "data": {
            "text/plain": [
              "847     287.940\n",
              "5152      2.688\n",
              "7045      9.248\n",
              "3895     48.900\n",
              "4882     59.920\n",
              "Name: Sales, dtype: float64"
            ]
          },
          "metadata": {},
          "execution_count": 47
        }
      ]
    },
    {
      "cell_type": "code",
      "source": [
        "# # Drop the original columns\n",
        "\n",
        "# x_train = x_train.drop(['Sub-Category'], axis=1)\n",
        "# x_test = x_test.drop(['Sub-Category'], axis=1)"
      ],
      "metadata": {
        "id": "KGfuaEMkpeBv"
      },
      "execution_count": null,
      "outputs": []
    },
    {
      "cell_type": "code",
      "source": [
        "x_train.info()"
      ],
      "metadata": {
        "colab": {
          "base_uri": "https://localhost:8080/"
        },
        "id": "GTPGMUAoo51O",
        "outputId": "4f2ebd18-8822-4b3d-897c-4e2946d84497"
      },
      "execution_count": null,
      "outputs": [
        {
          "output_type": "stream",
          "name": "stdout",
          "text": [
            "<class 'pandas.core.frame.DataFrame'>\n",
            "Int64Index: 6852 entries, 847 to 235\n",
            "Data columns (total 6 columns):\n",
            " #   Column           Non-Null Count  Dtype  \n",
            "---  ------           --------------  -----  \n",
            " 0   Postal Code      6852 non-null   float64\n",
            " 1   Order Date_year  6852 non-null   int64  \n",
            " 2   Furniture        6852 non-null   int64  \n",
            " 3   Office Supplies  6852 non-null   int64  \n",
            " 4   Technology       6852 non-null   int64  \n",
            " 5   Product_id       6852 non-null   int64  \n",
            "dtypes: float64(1), int64(5)\n",
            "memory usage: 374.7 KB\n"
          ]
        }
      ]
    },
    {
      "cell_type": "code",
      "source": [
        "# x_train.describe()"
      ],
      "metadata": {
        "id": "LTTOwQ1Kbrsr"
      },
      "execution_count": null,
      "outputs": []
    },
    {
      "cell_type": "code",
      "source": [
        "x_train.dtypes\n",
        "x_train.shape\n",
        "x_test.shape"
      ],
      "metadata": {
        "colab": {
          "base_uri": "https://localhost:8080/"
        },
        "id": "YMoPqbLNTsT0",
        "outputId": "c2998d4c-a5c5-4986-a7d6-59e6b007c9c3"
      },
      "execution_count": null,
      "outputs": [
        {
          "output_type": "execute_result",
          "data": {
            "text/plain": [
              "(2937, 6)"
            ]
          },
          "metadata": {},
          "execution_count": 51
        }
      ]
    },
    {
      "cell_type": "code",
      "source": [
        "from sklearn.ensemble import RandomForestRegressor\n",
        "model_1=RandomForestRegressor(n_estimators=10, random_state=0)\n",
        "model_1.fit(x_train, y_train)\n",
        "y_pred = model_1.predict(x_test)\n",
        "accuracy=model_1.score(x_train,y_train)\n",
        "print('Accuracy of the model:',accuracy)\n",
        "RF_res = pd.DataFrame({'Actual': y_test, 'Predicted' : y_pred})\n",
        "RF_res.head(7)"
      ],
      "metadata": {
        "id": "WaUe-hRYm9oJ",
        "outputId": "fdacc275-812c-40e9-f5e5-20cbd8745572",
        "colab": {
          "base_uri": "https://localhost:8080/",
          "height": 286
        }
      },
      "execution_count": null,
      "outputs": [
        {
          "output_type": "stream",
          "name": "stdout",
          "text": [
            "Accuracy of the model: 0.87314272386865\n"
          ]
        },
        {
          "output_type": "execute_result",
          "data": {
            "text/plain": [
              "       Actual  Predicted\n",
              "5497    6.560    19.9700\n",
              "1740   20.880     9.5964\n",
              "3000   44.416   320.3442\n",
              "9532  427.644   659.7321\n",
              "763    11.360    78.7528\n",
              "2368  532.704    97.0372\n",
              "4994   20.320    34.9536"
            ],
            "text/html": [
              "\n",
              "  <div id=\"df-1e43e9ad-5810-4558-bc2c-c859bd61d624\">\n",
              "    <div class=\"colab-df-container\">\n",
              "      <div>\n",
              "<style scoped>\n",
              "    .dataframe tbody tr th:only-of-type {\n",
              "        vertical-align: middle;\n",
              "    }\n",
              "\n",
              "    .dataframe tbody tr th {\n",
              "        vertical-align: top;\n",
              "    }\n",
              "\n",
              "    .dataframe thead th {\n",
              "        text-align: right;\n",
              "    }\n",
              "</style>\n",
              "<table border=\"1\" class=\"dataframe\">\n",
              "  <thead>\n",
              "    <tr style=\"text-align: right;\">\n",
              "      <th></th>\n",
              "      <th>Actual</th>\n",
              "      <th>Predicted</th>\n",
              "    </tr>\n",
              "  </thead>\n",
              "  <tbody>\n",
              "    <tr>\n",
              "      <th>5497</th>\n",
              "      <td>6.560</td>\n",
              "      <td>19.9700</td>\n",
              "    </tr>\n",
              "    <tr>\n",
              "      <th>1740</th>\n",
              "      <td>20.880</td>\n",
              "      <td>9.5964</td>\n",
              "    </tr>\n",
              "    <tr>\n",
              "      <th>3000</th>\n",
              "      <td>44.416</td>\n",
              "      <td>320.3442</td>\n",
              "    </tr>\n",
              "    <tr>\n",
              "      <th>9532</th>\n",
              "      <td>427.644</td>\n",
              "      <td>659.7321</td>\n",
              "    </tr>\n",
              "    <tr>\n",
              "      <th>763</th>\n",
              "      <td>11.360</td>\n",
              "      <td>78.7528</td>\n",
              "    </tr>\n",
              "    <tr>\n",
              "      <th>2368</th>\n",
              "      <td>532.704</td>\n",
              "      <td>97.0372</td>\n",
              "    </tr>\n",
              "    <tr>\n",
              "      <th>4994</th>\n",
              "      <td>20.320</td>\n",
              "      <td>34.9536</td>\n",
              "    </tr>\n",
              "  </tbody>\n",
              "</table>\n",
              "</div>\n",
              "      <button class=\"colab-df-convert\" onclick=\"convertToInteractive('df-1e43e9ad-5810-4558-bc2c-c859bd61d624')\"\n",
              "              title=\"Convert this dataframe to an interactive table.\"\n",
              "              style=\"display:none;\">\n",
              "        \n",
              "  <svg xmlns=\"http://www.w3.org/2000/svg\" height=\"24px\"viewBox=\"0 0 24 24\"\n",
              "       width=\"24px\">\n",
              "    <path d=\"M0 0h24v24H0V0z\" fill=\"none\"/>\n",
              "    <path d=\"M18.56 5.44l.94 2.06.94-2.06 2.06-.94-2.06-.94-.94-2.06-.94 2.06-2.06.94zm-11 1L8.5 8.5l.94-2.06 2.06-.94-2.06-.94L8.5 2.5l-.94 2.06-2.06.94zm10 10l.94 2.06.94-2.06 2.06-.94-2.06-.94-.94-2.06-.94 2.06-2.06.94z\"/><path d=\"M17.41 7.96l-1.37-1.37c-.4-.4-.92-.59-1.43-.59-.52 0-1.04.2-1.43.59L10.3 9.45l-7.72 7.72c-.78.78-.78 2.05 0 2.83L4 21.41c.39.39.9.59 1.41.59.51 0 1.02-.2 1.41-.59l7.78-7.78 2.81-2.81c.8-.78.8-2.07 0-2.86zM5.41 20L4 18.59l7.72-7.72 1.47 1.35L5.41 20z\"/>\n",
              "  </svg>\n",
              "      </button>\n",
              "      \n",
              "  <style>\n",
              "    .colab-df-container {\n",
              "      display:flex;\n",
              "      flex-wrap:wrap;\n",
              "      gap: 12px;\n",
              "    }\n",
              "\n",
              "    .colab-df-convert {\n",
              "      background-color: #E8F0FE;\n",
              "      border: none;\n",
              "      border-radius: 50%;\n",
              "      cursor: pointer;\n",
              "      display: none;\n",
              "      fill: #1967D2;\n",
              "      height: 32px;\n",
              "      padding: 0 0 0 0;\n",
              "      width: 32px;\n",
              "    }\n",
              "\n",
              "    .colab-df-convert:hover {\n",
              "      background-color: #E2EBFA;\n",
              "      box-shadow: 0px 1px 2px rgba(60, 64, 67, 0.3), 0px 1px 3px 1px rgba(60, 64, 67, 0.15);\n",
              "      fill: #174EA6;\n",
              "    }\n",
              "\n",
              "    [theme=dark] .colab-df-convert {\n",
              "      background-color: #3B4455;\n",
              "      fill: #D2E3FC;\n",
              "    }\n",
              "\n",
              "    [theme=dark] .colab-df-convert:hover {\n",
              "      background-color: #434B5C;\n",
              "      box-shadow: 0px 1px 3px 1px rgba(0, 0, 0, 0.15);\n",
              "      filter: drop-shadow(0px 1px 2px rgba(0, 0, 0, 0.3));\n",
              "      fill: #FFFFFF;\n",
              "    }\n",
              "  </style>\n",
              "\n",
              "      <script>\n",
              "        const buttonEl =\n",
              "          document.querySelector('#df-1e43e9ad-5810-4558-bc2c-c859bd61d624 button.colab-df-convert');\n",
              "        buttonEl.style.display =\n",
              "          google.colab.kernel.accessAllowed ? 'block' : 'none';\n",
              "\n",
              "        async function convertToInteractive(key) {\n",
              "          const element = document.querySelector('#df-1e43e9ad-5810-4558-bc2c-c859bd61d624');\n",
              "          const dataTable =\n",
              "            await google.colab.kernel.invokeFunction('convertToInteractive',\n",
              "                                                     [key], {});\n",
              "          if (!dataTable) return;\n",
              "\n",
              "          const docLinkHtml = 'Like what you see? Visit the ' +\n",
              "            '<a target=\"_blank\" href=https://colab.research.google.com/notebooks/data_table.ipynb>data table notebook</a>'\n",
              "            + ' to learn more about interactive tables.';\n",
              "          element.innerHTML = '';\n",
              "          dataTable['output_type'] = 'display_data';\n",
              "          await google.colab.output.renderOutput(dataTable, element);\n",
              "          const docLink = document.createElement('div');\n",
              "          docLink.innerHTML = docLinkHtml;\n",
              "          element.appendChild(docLink);\n",
              "        }\n",
              "      </script>\n",
              "    </div>\n",
              "  </div>\n",
              "  "
            ]
          },
          "metadata": {},
          "execution_count": 63
        }
      ]
    },
    {
      "cell_type": "code",
      "source": [
        "from sklearn import metrics\n",
        "\n",
        "print('Mean Absolute Error:', metrics.mean_absolute_error(y_test, y_pred))\n",
        "print('Mean Squared Error:', metrics.mean_squared_error(y_test, y_pred))\n",
        "print('Root Mean Squared Error:', np.sqrt(metrics.mean_squared_error(y_test, y_pred)))"
      ],
      "metadata": {
        "colab": {
          "base_uri": "https://localhost:8080/"
        },
        "id": "fP5Peu0dhZB2",
        "outputId": "008d9145-a4c2-4738-bc5d-56039dbe5daf"
      },
      "execution_count": null,
      "outputs": [
        {
          "output_type": "stream",
          "name": "stdout",
          "text": [
            "Mean Absolute Error: 181.19372117256026\n",
            "Mean Squared Error: 323325.94459908456\n",
            "Root Mean Squared Error: 568.6175732415281\n"
          ]
        }
      ]
    },
    {
      "cell_type": "code",
      "source": [
        "from sklearn.tree import DecisionTreeRegressor\n",
        "dt_model=DecisionTreeRegressor()\n",
        "dt_model.fit(x_train, y_train)\n",
        "y_pred = dt_model.predict(x_test)\n",
        "accuracy=dt_model.score(x_train,y_train)\n",
        "print('Accuracy of the model:',accuracy)\n",
        "DT_res = pd.DataFrame({'Actual': y_test, 'Predicted' : y_pred})\n",
        "DT_res.head(7)"
      ],
      "metadata": {
        "id": "CIBx9RfUyNBQ",
        "colab": {
          "base_uri": "https://localhost:8080/",
          "height": 286
        },
        "outputId": "8204522e-763e-4a81-ccec-abc3e9a9e126"
      },
      "execution_count": null,
      "outputs": [
        {
          "output_type": "stream",
          "name": "stdout",
          "text": [
            "Accuracy of the model: 0.9970358763898917\n"
          ]
        },
        {
          "output_type": "execute_result",
          "data": {
            "text/plain": [
              "       Actual  Predicted\n",
              "5497    6.560      2.696\n",
              "1740   20.880      7.830\n",
              "3000   44.416     88.832\n",
              "9532  427.644    145.764\n",
              "763    11.360     39.760\n",
              "2368  532.704     14.730\n",
              "4994   20.320      8.128"
            ],
            "text/html": [
              "\n",
              "  <div id=\"df-a6156617-8a02-4b78-a0a8-46096d6aed2f\">\n",
              "    <div class=\"colab-df-container\">\n",
              "      <div>\n",
              "<style scoped>\n",
              "    .dataframe tbody tr th:only-of-type {\n",
              "        vertical-align: middle;\n",
              "    }\n",
              "\n",
              "    .dataframe tbody tr th {\n",
              "        vertical-align: top;\n",
              "    }\n",
              "\n",
              "    .dataframe thead th {\n",
              "        text-align: right;\n",
              "    }\n",
              "</style>\n",
              "<table border=\"1\" class=\"dataframe\">\n",
              "  <thead>\n",
              "    <tr style=\"text-align: right;\">\n",
              "      <th></th>\n",
              "      <th>Actual</th>\n",
              "      <th>Predicted</th>\n",
              "    </tr>\n",
              "  </thead>\n",
              "  <tbody>\n",
              "    <tr>\n",
              "      <th>5497</th>\n",
              "      <td>6.560</td>\n",
              "      <td>2.696</td>\n",
              "    </tr>\n",
              "    <tr>\n",
              "      <th>1740</th>\n",
              "      <td>20.880</td>\n",
              "      <td>7.830</td>\n",
              "    </tr>\n",
              "    <tr>\n",
              "      <th>3000</th>\n",
              "      <td>44.416</td>\n",
              "      <td>88.832</td>\n",
              "    </tr>\n",
              "    <tr>\n",
              "      <th>9532</th>\n",
              "      <td>427.644</td>\n",
              "      <td>145.764</td>\n",
              "    </tr>\n",
              "    <tr>\n",
              "      <th>763</th>\n",
              "      <td>11.360</td>\n",
              "      <td>39.760</td>\n",
              "    </tr>\n",
              "    <tr>\n",
              "      <th>2368</th>\n",
              "      <td>532.704</td>\n",
              "      <td>14.730</td>\n",
              "    </tr>\n",
              "    <tr>\n",
              "      <th>4994</th>\n",
              "      <td>20.320</td>\n",
              "      <td>8.128</td>\n",
              "    </tr>\n",
              "  </tbody>\n",
              "</table>\n",
              "</div>\n",
              "      <button class=\"colab-df-convert\" onclick=\"convertToInteractive('df-a6156617-8a02-4b78-a0a8-46096d6aed2f')\"\n",
              "              title=\"Convert this dataframe to an interactive table.\"\n",
              "              style=\"display:none;\">\n",
              "        \n",
              "  <svg xmlns=\"http://www.w3.org/2000/svg\" height=\"24px\"viewBox=\"0 0 24 24\"\n",
              "       width=\"24px\">\n",
              "    <path d=\"M0 0h24v24H0V0z\" fill=\"none\"/>\n",
              "    <path d=\"M18.56 5.44l.94 2.06.94-2.06 2.06-.94-2.06-.94-.94-2.06-.94 2.06-2.06.94zm-11 1L8.5 8.5l.94-2.06 2.06-.94-2.06-.94L8.5 2.5l-.94 2.06-2.06.94zm10 10l.94 2.06.94-2.06 2.06-.94-2.06-.94-.94-2.06-.94 2.06-2.06.94z\"/><path d=\"M17.41 7.96l-1.37-1.37c-.4-.4-.92-.59-1.43-.59-.52 0-1.04.2-1.43.59L10.3 9.45l-7.72 7.72c-.78.78-.78 2.05 0 2.83L4 21.41c.39.39.9.59 1.41.59.51 0 1.02-.2 1.41-.59l7.78-7.78 2.81-2.81c.8-.78.8-2.07 0-2.86zM5.41 20L4 18.59l7.72-7.72 1.47 1.35L5.41 20z\"/>\n",
              "  </svg>\n",
              "      </button>\n",
              "      \n",
              "  <style>\n",
              "    .colab-df-container {\n",
              "      display:flex;\n",
              "      flex-wrap:wrap;\n",
              "      gap: 12px;\n",
              "    }\n",
              "\n",
              "    .colab-df-convert {\n",
              "      background-color: #E8F0FE;\n",
              "      border: none;\n",
              "      border-radius: 50%;\n",
              "      cursor: pointer;\n",
              "      display: none;\n",
              "      fill: #1967D2;\n",
              "      height: 32px;\n",
              "      padding: 0 0 0 0;\n",
              "      width: 32px;\n",
              "    }\n",
              "\n",
              "    .colab-df-convert:hover {\n",
              "      background-color: #E2EBFA;\n",
              "      box-shadow: 0px 1px 2px rgba(60, 64, 67, 0.3), 0px 1px 3px 1px rgba(60, 64, 67, 0.15);\n",
              "      fill: #174EA6;\n",
              "    }\n",
              "\n",
              "    [theme=dark] .colab-df-convert {\n",
              "      background-color: #3B4455;\n",
              "      fill: #D2E3FC;\n",
              "    }\n",
              "\n",
              "    [theme=dark] .colab-df-convert:hover {\n",
              "      background-color: #434B5C;\n",
              "      box-shadow: 0px 1px 3px 1px rgba(0, 0, 0, 0.15);\n",
              "      filter: drop-shadow(0px 1px 2px rgba(0, 0, 0, 0.3));\n",
              "      fill: #FFFFFF;\n",
              "    }\n",
              "  </style>\n",
              "\n",
              "      <script>\n",
              "        const buttonEl =\n",
              "          document.querySelector('#df-a6156617-8a02-4b78-a0a8-46096d6aed2f button.colab-df-convert');\n",
              "        buttonEl.style.display =\n",
              "          google.colab.kernel.accessAllowed ? 'block' : 'none';\n",
              "\n",
              "        async function convertToInteractive(key) {\n",
              "          const element = document.querySelector('#df-a6156617-8a02-4b78-a0a8-46096d6aed2f');\n",
              "          const dataTable =\n",
              "            await google.colab.kernel.invokeFunction('convertToInteractive',\n",
              "                                                     [key], {});\n",
              "          if (!dataTable) return;\n",
              "\n",
              "          const docLinkHtml = 'Like what you see? Visit the ' +\n",
              "            '<a target=\"_blank\" href=https://colab.research.google.com/notebooks/data_table.ipynb>data table notebook</a>'\n",
              "            + ' to learn more about interactive tables.';\n",
              "          element.innerHTML = '';\n",
              "          dataTable['output_type'] = 'display_data';\n",
              "          await google.colab.output.renderOutput(dataTable, element);\n",
              "          const docLink = document.createElement('div');\n",
              "          docLink.innerHTML = docLinkHtml;\n",
              "          element.appendChild(docLink);\n",
              "        }\n",
              "      </script>\n",
              "    </div>\n",
              "  </div>\n",
              "  "
            ]
          },
          "metadata": {},
          "execution_count": 64
        }
      ]
    },
    {
      "cell_type": "code",
      "source": [
        "print('Mean Absolute Error:', metrics.mean_absolute_error(y_test, y_pred))\n",
        "print('Mean Squared Error:', metrics.mean_squared_error(y_test, y_pred))\n",
        "print('Root Mean Squared Error:', np.sqrt(metrics.mean_squared_error(y_test, y_pred)))"
      ],
      "metadata": {
        "colab": {
          "base_uri": "https://localhost:8080/"
        },
        "id": "4jbNJMGH58HG",
        "outputId": "ea32d6cf-8300-4d7b-be90-7a1ff643ffc0"
      },
      "execution_count": null,
      "outputs": [
        {
          "output_type": "stream",
          "name": "stdout",
          "text": [
            "Mean Absolute Error: 217.16256285325161\n",
            "Mean Squared Error: 446581.7362697649\n",
            "Root Mean Squared Error: 668.2677130235793\n"
          ]
        }
      ]
    },
    {
      "cell_type": "code",
      "source": [
        "from sklearn.ensemble import GradientBoostingRegressor\n",
        "gb_model=GradientBoostingRegressor()\n",
        "gb_model.fit(x_train, y_train)\n",
        "y_pred = gb_model.predict(x_test)\n",
        "accuracy=gb_model.score(x_train,y_train)\n",
        "print('Accuracy of the model:',accuracy)\n",
        "GB_res = pd.DataFrame({'Actual': y_test, 'Predicted' : y_pred})\n",
        "GB_res.head(7)"
      ],
      "metadata": {
        "id": "KcKsAda36Cka",
        "colab": {
          "base_uri": "https://localhost:8080/",
          "height": 286
        },
        "outputId": "684e3a34-7516-42ab-d51e-384c68b3b893"
      },
      "execution_count": null,
      "outputs": [
        {
          "output_type": "stream",
          "name": "stdout",
          "text": [
            "Accuracy of the model: 0.518468423415789\n"
          ]
        },
        {
          "output_type": "execute_result",
          "data": {
            "text/plain": [
              "       Actual   Predicted\n",
              "5497    6.560   77.179414\n",
              "1740   20.880   66.336378\n",
              "3000   44.416  102.538815\n",
              "9532  427.644  567.758620\n",
              "763    11.360   81.548347\n",
              "2368  532.704   93.783012\n",
              "4994   20.320  117.607746"
            ],
            "text/html": [
              "\n",
              "  <div id=\"df-5f313d78-8ec9-48db-93df-3c6b7da09198\">\n",
              "    <div class=\"colab-df-container\">\n",
              "      <div>\n",
              "<style scoped>\n",
              "    .dataframe tbody tr th:only-of-type {\n",
              "        vertical-align: middle;\n",
              "    }\n",
              "\n",
              "    .dataframe tbody tr th {\n",
              "        vertical-align: top;\n",
              "    }\n",
              "\n",
              "    .dataframe thead th {\n",
              "        text-align: right;\n",
              "    }\n",
              "</style>\n",
              "<table border=\"1\" class=\"dataframe\">\n",
              "  <thead>\n",
              "    <tr style=\"text-align: right;\">\n",
              "      <th></th>\n",
              "      <th>Actual</th>\n",
              "      <th>Predicted</th>\n",
              "    </tr>\n",
              "  </thead>\n",
              "  <tbody>\n",
              "    <tr>\n",
              "      <th>5497</th>\n",
              "      <td>6.560</td>\n",
              "      <td>77.179414</td>\n",
              "    </tr>\n",
              "    <tr>\n",
              "      <th>1740</th>\n",
              "      <td>20.880</td>\n",
              "      <td>66.336378</td>\n",
              "    </tr>\n",
              "    <tr>\n",
              "      <th>3000</th>\n",
              "      <td>44.416</td>\n",
              "      <td>102.538815</td>\n",
              "    </tr>\n",
              "    <tr>\n",
              "      <th>9532</th>\n",
              "      <td>427.644</td>\n",
              "      <td>567.758620</td>\n",
              "    </tr>\n",
              "    <tr>\n",
              "      <th>763</th>\n",
              "      <td>11.360</td>\n",
              "      <td>81.548347</td>\n",
              "    </tr>\n",
              "    <tr>\n",
              "      <th>2368</th>\n",
              "      <td>532.704</td>\n",
              "      <td>93.783012</td>\n",
              "    </tr>\n",
              "    <tr>\n",
              "      <th>4994</th>\n",
              "      <td>20.320</td>\n",
              "      <td>117.607746</td>\n",
              "    </tr>\n",
              "  </tbody>\n",
              "</table>\n",
              "</div>\n",
              "      <button class=\"colab-df-convert\" onclick=\"convertToInteractive('df-5f313d78-8ec9-48db-93df-3c6b7da09198')\"\n",
              "              title=\"Convert this dataframe to an interactive table.\"\n",
              "              style=\"display:none;\">\n",
              "        \n",
              "  <svg xmlns=\"http://www.w3.org/2000/svg\" height=\"24px\"viewBox=\"0 0 24 24\"\n",
              "       width=\"24px\">\n",
              "    <path d=\"M0 0h24v24H0V0z\" fill=\"none\"/>\n",
              "    <path d=\"M18.56 5.44l.94 2.06.94-2.06 2.06-.94-2.06-.94-.94-2.06-.94 2.06-2.06.94zm-11 1L8.5 8.5l.94-2.06 2.06-.94-2.06-.94L8.5 2.5l-.94 2.06-2.06.94zm10 10l.94 2.06.94-2.06 2.06-.94-2.06-.94-.94-2.06-.94 2.06-2.06.94z\"/><path d=\"M17.41 7.96l-1.37-1.37c-.4-.4-.92-.59-1.43-.59-.52 0-1.04.2-1.43.59L10.3 9.45l-7.72 7.72c-.78.78-.78 2.05 0 2.83L4 21.41c.39.39.9.59 1.41.59.51 0 1.02-.2 1.41-.59l7.78-7.78 2.81-2.81c.8-.78.8-2.07 0-2.86zM5.41 20L4 18.59l7.72-7.72 1.47 1.35L5.41 20z\"/>\n",
              "  </svg>\n",
              "      </button>\n",
              "      \n",
              "  <style>\n",
              "    .colab-df-container {\n",
              "      display:flex;\n",
              "      flex-wrap:wrap;\n",
              "      gap: 12px;\n",
              "    }\n",
              "\n",
              "    .colab-df-convert {\n",
              "      background-color: #E8F0FE;\n",
              "      border: none;\n",
              "      border-radius: 50%;\n",
              "      cursor: pointer;\n",
              "      display: none;\n",
              "      fill: #1967D2;\n",
              "      height: 32px;\n",
              "      padding: 0 0 0 0;\n",
              "      width: 32px;\n",
              "    }\n",
              "\n",
              "    .colab-df-convert:hover {\n",
              "      background-color: #E2EBFA;\n",
              "      box-shadow: 0px 1px 2px rgba(60, 64, 67, 0.3), 0px 1px 3px 1px rgba(60, 64, 67, 0.15);\n",
              "      fill: #174EA6;\n",
              "    }\n",
              "\n",
              "    [theme=dark] .colab-df-convert {\n",
              "      background-color: #3B4455;\n",
              "      fill: #D2E3FC;\n",
              "    }\n",
              "\n",
              "    [theme=dark] .colab-df-convert:hover {\n",
              "      background-color: #434B5C;\n",
              "      box-shadow: 0px 1px 3px 1px rgba(0, 0, 0, 0.15);\n",
              "      filter: drop-shadow(0px 1px 2px rgba(0, 0, 0, 0.3));\n",
              "      fill: #FFFFFF;\n",
              "    }\n",
              "  </style>\n",
              "\n",
              "      <script>\n",
              "        const buttonEl =\n",
              "          document.querySelector('#df-5f313d78-8ec9-48db-93df-3c6b7da09198 button.colab-df-convert');\n",
              "        buttonEl.style.display =\n",
              "          google.colab.kernel.accessAllowed ? 'block' : 'none';\n",
              "\n",
              "        async function convertToInteractive(key) {\n",
              "          const element = document.querySelector('#df-5f313d78-8ec9-48db-93df-3c6b7da09198');\n",
              "          const dataTable =\n",
              "            await google.colab.kernel.invokeFunction('convertToInteractive',\n",
              "                                                     [key], {});\n",
              "          if (!dataTable) return;\n",
              "\n",
              "          const docLinkHtml = 'Like what you see? Visit the ' +\n",
              "            '<a target=\"_blank\" href=https://colab.research.google.com/notebooks/data_table.ipynb>data table notebook</a>'\n",
              "            + ' to learn more about interactive tables.';\n",
              "          element.innerHTML = '';\n",
              "          dataTable['output_type'] = 'display_data';\n",
              "          await google.colab.output.renderOutput(dataTable, element);\n",
              "          const docLink = document.createElement('div');\n",
              "          docLink.innerHTML = docLinkHtml;\n",
              "          element.appendChild(docLink);\n",
              "        }\n",
              "      </script>\n",
              "    </div>\n",
              "  </div>\n",
              "  "
            ]
          },
          "metadata": {},
          "execution_count": 65
        }
      ]
    },
    {
      "cell_type": "code",
      "source": [
        "print('Mean Absolute Error:', metrics.mean_absolute_error(y_test, y_pred))\n",
        "print('Mean Squared Error:', metrics.mean_squared_error(y_test, y_pred))\n",
        "print('Root Mean Squared Error:', np.sqrt(metrics.mean_squared_error(y_test, y_pred)))"
      ],
      "metadata": {
        "colab": {
          "base_uri": "https://localhost:8080/"
        },
        "id": "rVdTndDq6w99",
        "outputId": "158f77b0-1e52-4b34-ff4c-44b77237ac12"
      },
      "execution_count": null,
      "outputs": [
        {
          "output_type": "stream",
          "name": "stdout",
          "text": [
            "Mean Absolute Error: 196.3785524196799\n",
            "Mean Squared Error: 266250.179956339\n",
            "Root Mean Squared Error: 515.9943603919902\n"
          ]
        }
      ]
    },
    {
      "cell_type": "code",
      "source": [
        "res = pd.DataFrame({'Actual': y_test, 'Predicted' : y_pred})\n",
        "res"
      ],
      "metadata": {
        "id": "zW-Vqwepiycm",
        "colab": {
          "base_uri": "https://localhost:8080/",
          "height": 424
        },
        "outputId": "3070f3f7-7510-47e9-882c-896d006b30c3"
      },
      "execution_count": null,
      "outputs": [
        {
          "output_type": "execute_result",
          "data": {
            "text/plain": [
              "        Actual   Predicted\n",
              "5497     6.560   77.179414\n",
              "1740    20.880   66.336378\n",
              "3000    44.416  102.538815\n",
              "9532   427.644  567.758620\n",
              "763     11.360   81.548347\n",
              "...        ...         ...\n",
              "5846   225.568  550.646843\n",
              "5814    11.672  213.670476\n",
              "9115   429.600  465.602244\n",
              "4936    33.740  101.304431\n",
              "8271  2563.056  581.654462\n",
              "\n",
              "[2937 rows x 2 columns]"
            ],
            "text/html": [
              "\n",
              "  <div id=\"df-113acdc8-a5d5-4ba8-9d4b-cb6fcd6975c2\">\n",
              "    <div class=\"colab-df-container\">\n",
              "      <div>\n",
              "<style scoped>\n",
              "    .dataframe tbody tr th:only-of-type {\n",
              "        vertical-align: middle;\n",
              "    }\n",
              "\n",
              "    .dataframe tbody tr th {\n",
              "        vertical-align: top;\n",
              "    }\n",
              "\n",
              "    .dataframe thead th {\n",
              "        text-align: right;\n",
              "    }\n",
              "</style>\n",
              "<table border=\"1\" class=\"dataframe\">\n",
              "  <thead>\n",
              "    <tr style=\"text-align: right;\">\n",
              "      <th></th>\n",
              "      <th>Actual</th>\n",
              "      <th>Predicted</th>\n",
              "    </tr>\n",
              "  </thead>\n",
              "  <tbody>\n",
              "    <tr>\n",
              "      <th>5497</th>\n",
              "      <td>6.560</td>\n",
              "      <td>77.179414</td>\n",
              "    </tr>\n",
              "    <tr>\n",
              "      <th>1740</th>\n",
              "      <td>20.880</td>\n",
              "      <td>66.336378</td>\n",
              "    </tr>\n",
              "    <tr>\n",
              "      <th>3000</th>\n",
              "      <td>44.416</td>\n",
              "      <td>102.538815</td>\n",
              "    </tr>\n",
              "    <tr>\n",
              "      <th>9532</th>\n",
              "      <td>427.644</td>\n",
              "      <td>567.758620</td>\n",
              "    </tr>\n",
              "    <tr>\n",
              "      <th>763</th>\n",
              "      <td>11.360</td>\n",
              "      <td>81.548347</td>\n",
              "    </tr>\n",
              "    <tr>\n",
              "      <th>...</th>\n",
              "      <td>...</td>\n",
              "      <td>...</td>\n",
              "    </tr>\n",
              "    <tr>\n",
              "      <th>5846</th>\n",
              "      <td>225.568</td>\n",
              "      <td>550.646843</td>\n",
              "    </tr>\n",
              "    <tr>\n",
              "      <th>5814</th>\n",
              "      <td>11.672</td>\n",
              "      <td>213.670476</td>\n",
              "    </tr>\n",
              "    <tr>\n",
              "      <th>9115</th>\n",
              "      <td>429.600</td>\n",
              "      <td>465.602244</td>\n",
              "    </tr>\n",
              "    <tr>\n",
              "      <th>4936</th>\n",
              "      <td>33.740</td>\n",
              "      <td>101.304431</td>\n",
              "    </tr>\n",
              "    <tr>\n",
              "      <th>8271</th>\n",
              "      <td>2563.056</td>\n",
              "      <td>581.654462</td>\n",
              "    </tr>\n",
              "  </tbody>\n",
              "</table>\n",
              "<p>2937 rows × 2 columns</p>\n",
              "</div>\n",
              "      <button class=\"colab-df-convert\" onclick=\"convertToInteractive('df-113acdc8-a5d5-4ba8-9d4b-cb6fcd6975c2')\"\n",
              "              title=\"Convert this dataframe to an interactive table.\"\n",
              "              style=\"display:none;\">\n",
              "        \n",
              "  <svg xmlns=\"http://www.w3.org/2000/svg\" height=\"24px\"viewBox=\"0 0 24 24\"\n",
              "       width=\"24px\">\n",
              "    <path d=\"M0 0h24v24H0V0z\" fill=\"none\"/>\n",
              "    <path d=\"M18.56 5.44l.94 2.06.94-2.06 2.06-.94-2.06-.94-.94-2.06-.94 2.06-2.06.94zm-11 1L8.5 8.5l.94-2.06 2.06-.94-2.06-.94L8.5 2.5l-.94 2.06-2.06.94zm10 10l.94 2.06.94-2.06 2.06-.94-2.06-.94-.94-2.06-.94 2.06-2.06.94z\"/><path d=\"M17.41 7.96l-1.37-1.37c-.4-.4-.92-.59-1.43-.59-.52 0-1.04.2-1.43.59L10.3 9.45l-7.72 7.72c-.78.78-.78 2.05 0 2.83L4 21.41c.39.39.9.59 1.41.59.51 0 1.02-.2 1.41-.59l7.78-7.78 2.81-2.81c.8-.78.8-2.07 0-2.86zM5.41 20L4 18.59l7.72-7.72 1.47 1.35L5.41 20z\"/>\n",
              "  </svg>\n",
              "      </button>\n",
              "      \n",
              "  <style>\n",
              "    .colab-df-container {\n",
              "      display:flex;\n",
              "      flex-wrap:wrap;\n",
              "      gap: 12px;\n",
              "    }\n",
              "\n",
              "    .colab-df-convert {\n",
              "      background-color: #E8F0FE;\n",
              "      border: none;\n",
              "      border-radius: 50%;\n",
              "      cursor: pointer;\n",
              "      display: none;\n",
              "      fill: #1967D2;\n",
              "      height: 32px;\n",
              "      padding: 0 0 0 0;\n",
              "      width: 32px;\n",
              "    }\n",
              "\n",
              "    .colab-df-convert:hover {\n",
              "      background-color: #E2EBFA;\n",
              "      box-shadow: 0px 1px 2px rgba(60, 64, 67, 0.3), 0px 1px 3px 1px rgba(60, 64, 67, 0.15);\n",
              "      fill: #174EA6;\n",
              "    }\n",
              "\n",
              "    [theme=dark] .colab-df-convert {\n",
              "      background-color: #3B4455;\n",
              "      fill: #D2E3FC;\n",
              "    }\n",
              "\n",
              "    [theme=dark] .colab-df-convert:hover {\n",
              "      background-color: #434B5C;\n",
              "      box-shadow: 0px 1px 3px 1px rgba(0, 0, 0, 0.15);\n",
              "      filter: drop-shadow(0px 1px 2px rgba(0, 0, 0, 0.3));\n",
              "      fill: #FFFFFF;\n",
              "    }\n",
              "  </style>\n",
              "\n",
              "      <script>\n",
              "        const buttonEl =\n",
              "          document.querySelector('#df-113acdc8-a5d5-4ba8-9d4b-cb6fcd6975c2 button.colab-df-convert');\n",
              "        buttonEl.style.display =\n",
              "          google.colab.kernel.accessAllowed ? 'block' : 'none';\n",
              "\n",
              "        async function convertToInteractive(key) {\n",
              "          const element = document.querySelector('#df-113acdc8-a5d5-4ba8-9d4b-cb6fcd6975c2');\n",
              "          const dataTable =\n",
              "            await google.colab.kernel.invokeFunction('convertToInteractive',\n",
              "                                                     [key], {});\n",
              "          if (!dataTable) return;\n",
              "\n",
              "          const docLinkHtml = 'Like what you see? Visit the ' +\n",
              "            '<a target=\"_blank\" href=https://colab.research.google.com/notebooks/data_table.ipynb>data table notebook</a>'\n",
              "            + ' to learn more about interactive tables.';\n",
              "          element.innerHTML = '';\n",
              "          dataTable['output_type'] = 'display_data';\n",
              "          await google.colab.output.renderOutput(dataTable, element);\n",
              "          const docLink = document.createElement('div');\n",
              "          docLink.innerHTML = docLinkHtml;\n",
              "          element.appendChild(docLink);\n",
              "        }\n",
              "      </script>\n",
              "    </div>\n",
              "  </div>\n",
              "  "
            ]
          },
          "metadata": {},
          "execution_count": 58
        }
      ]
    },
    {
      "cell_type": "code",
      "source": [],
      "metadata": {
        "id": "HF74bK0s8Ae5"
      },
      "execution_count": null,
      "outputs": []
    }
  ]
}